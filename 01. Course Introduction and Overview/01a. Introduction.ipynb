{
  "nbformat": 4,
  "nbformat_minor": 0,
  "metadata": {
    "kernelspec": {
      "display_name": "Python 3",
      "language": "python",
      "name": "python3"
    },
    "language_info": {
      "codemirror_mode": {
        "name": "ipython",
        "version": 3
      },
      "file_extension": ".py",
      "mimetype": "text/x-python",
      "name": "python",
      "nbconvert_exporter": "python",
      "pygments_lexer": "ipython3",
      "version": "3.8.5"
    },
    "colab": {
      "name": "01a. Introduction.ipynb",
      "provenance": [],
      "include_colab_link": true
    }
  },
  "cells": [
    {
      "cell_type": "markdown",
      "metadata": {
        "id": "view-in-github",
        "colab_type": "text"
      },
      "source": [
        "<a href=\"https://colab.research.google.com/github/Nischay18/ENSYS5800-AI-Energy-somu.n/blob/main/01.%20Course%20Introduction%20and%20Overview/01a.%20Introduction.ipynb\" target=\"_parent\"><img src=\"https://colab.research.google.com/assets/colab-badge.svg\" alt=\"Open In Colab\"/></a>"
      ]
    },
    {
      "cell_type": "markdown",
      "metadata": {
        "id": "-uuv8cfr98ho"
      },
      "source": [
        "# ENSYS 5800: Applications of Artificial Intelligence in Energy Systems"
      ]
    },
    {
      "cell_type": "markdown",
      "metadata": {
        "id": "Iv06vh0c98hr"
      },
      "source": [
        "# Introduction"
      ]
    },
    {
      "cell_type": "markdown",
      "metadata": {
        "id": "wkIoQmUY98hs"
      },
      "source": [
        "## Example 1.1: Solar PV System Performance"
      ]
    },
    {
      "cell_type": "markdown",
      "metadata": {
        "id": "zDl_xHi398hs"
      },
      "source": [
        "### INGEST: Data Wrangling (Preparation and Inspection)"
      ]
    },
    {
      "cell_type": "code",
      "metadata": {
        "id": "UROegkCk98ht"
      },
      "source": [
        "import matplotlib.pyplot as plt\n",
        "import pandas as pd\n",
        "import seaborn as sns; sns.set()\n",
        "plt.style.use('classic')\n",
        "%matplotlib inline\n",
        "# change"
      ],
      "execution_count": null,
      "outputs": []
    },
    {
      "cell_type": "code",
      "metadata": {
        "id": "eAfD6t0698ht"
      },
      "source": [
        "# Import data\n",
        "url=\"https://storage.googleapis.com/nrel-datahub/NREL_DataHub_PVDAQ\"\n",
        "data=pd.read_csv(url, sep=',', header=None, error_bad_lines=False) \n",
        "data.columns = ['Datetime','system_id','ac_power', 'poa_irradiance','ambient_temp', 'wind_speed','soiling']\n",
        "data['Datetime'] =  pd.to_datetime(data['Datetime'])\n",
        "data = data.set_index(['Datetime'])"
      ],
      "execution_count": null,
      "outputs": []
    },
    {
      "cell_type": "code",
      "metadata": {
        "id": "sTo0GLGq98hu"
      },
      "source": [
        "data=data.drop(['system_id'], axis=1)\n",
        "data"
      ],
      "execution_count": null,
      "outputs": []
    },
    {
      "cell_type": "code",
      "metadata": {
        "id": "iTx7rjTu98hu"
      },
      "source": [
        "data.info()"
      ],
      "execution_count": null,
      "outputs": []
    },
    {
      "cell_type": "markdown",
      "metadata": {
        "id": "dbk9PD6598hv"
      },
      "source": [
        "Try what-if-tool: https://codelabs.developers.google.com/codelabs/prototyping-caip-notebooks#4"
      ]
    },
    {
      "cell_type": "code",
      "metadata": {
        "id": "CydZ-31u98hv"
      },
      "source": [
        "f=plt.figure()\n",
        "data.resample('W').mean().plot( figsize=(20,10))\n",
        "plt.legend(loc='center left', bbox_to_anchor=(1, .8))\n",
        "plt.show()"
      ],
      "execution_count": null,
      "outputs": []
    },
    {
      "cell_type": "code",
      "metadata": {
        "id": "ltW9Vv2g98hv"
      },
      "source": [
        "f=plt.figure()\n",
        "data['2014-07-01':'2014-07-08'].plot(alpha=0.5, style='-', figsize=(20,10))\n",
        "plt.legend(loc='center left', bbox_to_anchor=(1, .8))\n",
        "plt.show()"
      ],
      "execution_count": null,
      "outputs": []
    },
    {
      "cell_type": "code",
      "metadata": {
        "id": "lZVs46-I98hw"
      },
      "source": [
        "f=plt.figure()\n",
        "data['2014-07-01':'2014-07-02'].plot(alpha=0.5, style='-', figsize=(20,10))\n",
        "plt.legend(loc='center left', bbox_to_anchor=(1, .8))\n",
        "plt.show()"
      ],
      "execution_count": null,
      "outputs": []
    },
    {
      "cell_type": "code",
      "metadata": {
        "id": "I9FQMlkn98hx"
      },
      "source": [
        "g = sns.PairGrid(data, vars=['ac_power', 'poa_irradiance', 'ambient_temp', 'wind_speed','soiling'],\n",
        "                 palette='RdBu_r')\n",
        "g.map(plt.scatter, alpha=0.8)\n",
        "g.add_legend()"
      ],
      "execution_count": null,
      "outputs": []
    },
    {
      "cell_type": "code",
      "metadata": {
        "id": "cDfGdpOG98hy"
      },
      "source": [
        "sns.regplot(x=\"poa_irradiance\", y=\"ac_power\", data=data)"
      ],
      "execution_count": null,
      "outputs": []
    },
    {
      "cell_type": "code",
      "metadata": {
        "id": "CCB1JCAq98hy"
      },
      "source": [
        "sns.pairplot(data, size=2.5);"
      ],
      "execution_count": null,
      "outputs": []
    },
    {
      "cell_type": "code",
      "metadata": {
        "id": "z0RIncs398hy"
      },
      "source": [
        "data.describe()"
      ],
      "execution_count": null,
      "outputs": []
    },
    {
      "cell_type": "code",
      "metadata": {
        "id": "V0mSOpJv98hz"
      },
      "source": [
        "import matplotlib.pylab as plt\n",
        "with sns.axes_style(style='ticks'):\n",
        "    g = sns.boxplot(data=data)\n",
        "    g.set(yscale=\"log\")\n",
        "    g.set_xticklabels(g.get_xticklabels(),rotation=30)"
      ],
      "execution_count": null,
      "outputs": []
    },
    {
      "cell_type": "code",
      "metadata": {
        "id": "T_wIxiqr98hz"
      },
      "source": [
        "with sns.axes_style(style='ticks'):\n",
        "    g = sns.catplot(data=data[{'poa_irradiance','ac_power'}], kind=\"box\")\n",
        "    #g.set_axis_labels(data.columns);"
      ],
      "execution_count": null,
      "outputs": []
    },
    {
      "cell_type": "code",
      "metadata": {
        "id": "llEvos1z98hz"
      },
      "source": [
        "with sns.axes_style(style='ticks'):\n",
        "    g = sns.catplot(data=data[{'ambient_temp'}], kind=\"box\")\n",
        "    #g.set_axis_labels(data.columns);"
      ],
      "execution_count": null,
      "outputs": []
    },
    {
      "cell_type": "code",
      "metadata": {
        "id": "RnPKKQwd98h0"
      },
      "source": [
        "sns.displot(data['wind_speed'])"
      ],
      "execution_count": null,
      "outputs": []
    },
    {
      "cell_type": "code",
      "metadata": {
        "id": "f3aGQXf898h0"
      },
      "source": [
        "# Compute a correlation matrix and convert to long-form\n",
        "corr_mat = data.corr().stack().reset_index(name=\"correlation\")\n",
        "corr_mat[corr_mat['level_0']=='ac_power']"
      ],
      "execution_count": null,
      "outputs": []
    },
    {
      "cell_type": "code",
      "metadata": {
        "id": "5Zb-KdlW98h0"
      },
      "source": [
        "with sns.axes_style(style='ticks'):\n",
        "    g = sns.barplot(x=\"level_1\", y=\"correlation\", \n",
        "                    hue=\"level_0\",\n",
        "                    data=corr_mat[corr_mat['level_0']=='ac_power'])\n",
        "    g.set_xticklabels(g.get_xticklabels(),rotation=30)"
      ],
      "execution_count": null,
      "outputs": []
    },
    {
      "cell_type": "code",
      "metadata": {
        "id": "p5hzdn0N98h1"
      },
      "source": [
        "# Draw each cell as a scatter point with varying size and color\n",
        "g = sns.relplot(\n",
        "    data=corr_mat,\n",
        "    x=\"level_0\", y=\"level_1\", hue=\"correlation\", size=\"correlation\",\n",
        "    palette=\"vlag\", hue_norm=(-1, 1), edgecolor=\".7\",\n",
        "    height=10, sizes=(50, 250), size_norm=(-1, 1),\n",
        ")"
      ],
      "execution_count": null,
      "outputs": []
    },
    {
      "cell_type": "markdown",
      "metadata": {
        "id": "ZAZ6l5N198h1"
      },
      "source": [
        "### SANITIZE: Data Wrangling (Preparation, Transformation, and Cleansing)"
      ]
    },
    {
      "cell_type": "code",
      "metadata": {
        "id": "TWmSVE2U98h2"
      },
      "source": [
        ""
      ],
      "execution_count": null,
      "outputs": []
    },
    {
      "cell_type": "markdown",
      "metadata": {
        "id": "TaR0KBRk98h2"
      },
      "source": [
        "### DESCRIPTIVE ANALYTICS: Gain insight from data (\"Understand the past\")"
      ]
    },
    {
      "cell_type": "code",
      "metadata": {
        "id": "Xqo02l2998h2"
      },
      "source": [
        ""
      ],
      "execution_count": null,
      "outputs": []
    },
    {
      "cell_type": "markdown",
      "metadata": {
        "id": "-rtBn1Ud98h2"
      },
      "source": [
        "### PREDICTIVE ANALYTICS: Modeling to make predictions (\"Predict the future\")"
      ]
    },
    {
      "cell_type": "code",
      "metadata": {
        "id": "BttH6uqW98h3"
      },
      "source": [
        ""
      ],
      "execution_count": null,
      "outputs": []
    },
    {
      "cell_type": "markdown",
      "metadata": {
        "id": "7y0ufR-W98h3"
      },
      "source": [
        "### PRESCRIPTIVE ANALYTICS: Modeling to make recommendations (\"Change the future\")"
      ]
    },
    {
      "cell_type": "code",
      "metadata": {
        "id": "5Z4UrrMf98h3"
      },
      "source": [
        ""
      ],
      "execution_count": null,
      "outputs": []
    }
  ]
}