{
  "cells": [
    {
      "cell_type": "markdown",
      "metadata": {
        "id": "view-in-github",
        "colab_type": "text"
      },
      "source": [
        "<a href=\"https://colab.research.google.com/github/Nischay18/ENSYS5800-AI-Energy-somu.n/blob/main/02.%20Fundamentals%20-%20Data%20Analytics/02a.%20Fundamentals%20-%20Descriptive%20Analytics%20-%20Introduction%20to%20Python%20(Example%202.1).ipynb\" target=\"_parent\"><img src=\"https://colab.research.google.com/assets/colab-badge.svg\" alt=\"Open In Colab\"/></a>"
      ]
    },
    {
      "cell_type": "markdown",
      "metadata": {
        "id": "2HyEIJouNFpb"
      },
      "source": [
        "# ENSYS 5800: Applications of Artificial Intelligence in Energy Systems"
      ]
    },
    {
      "cell_type": "markdown",
      "metadata": {
        "id": "wXy3VxpmNFpe"
      },
      "source": [
        "# 02a. Fundamentals - Descriptive Analytics"
      ]
    },
    {
      "cell_type": "markdown",
      "metadata": {
        "id": "61tphsdONFpf"
      },
      "source": [
        "## Overview of Python"
      ]
    },
    {
      "cell_type": "markdown",
      "metadata": {
        "id": "Vvm3WnsONFpf"
      },
      "source": [
        "#### Working with data types in Python"
      ]
    },
    {
      "cell_type": "markdown",
      "metadata": {
        "id": "H4hCUmWJNFpf"
      },
      "source": [
        "*References:*  \n",
        "* https://wiki.python.org/moin/BeginnersGuide/Overview\n",
        "* https://docs.python.org/3/tutorial/datastructures.html#"
      ]
    },
    {
      "cell_type": "code",
      "execution_count": null,
      "metadata": {
        "id": "zQyXT9MXNFpg"
      },
      "outputs": [],
      "source": [
        "x = 1 # Assign the number, 1, to the variable x"
      ]
    },
    {
      "cell_type": "code",
      "execution_count": null,
      "metadata": {
        "id": "BhbtwnScNFpg",
        "outputId": "9273a346-3b43-421d-d075-a7227043b871"
      },
      "outputs": [
        {
          "name": "stdout",
          "output_type": "stream",
          "text": [
            "1\n"
          ]
        }
      ],
      "source": [
        "print(x)  # show the value of x in the user interface"
      ]
    },
    {
      "cell_type": "code",
      "execution_count": null,
      "metadata": {
        "id": "qvbr9y05NFph",
        "outputId": "bb086f63-3655-4e0f-dbb4-8dc8f0871df7"
      },
      "outputs": [
        {
          "name": "stdout",
          "output_type": "stream",
          "text": [
            "6\n"
          ]
        }
      ],
      "source": [
        "y = 2*x + 4 # specify an equation that shows the dependency of y on the independent variable x\n",
        "print(y) # evaluate and show the value of y in the user interface, for the current value of x"
      ]
    },
    {
      "cell_type": "markdown",
      "metadata": {
        "id": "N0w5RN18NFpi"
      },
      "source": [
        "*Python data types include* **numbers (floating point, complex, and integers)**, **arrays**, **strings**, **lists**, and **dictionaries**"
      ]
    },
    {
      "cell_type": "code",
      "execution_count": null,
      "metadata": {
        "id": "DtWcdsM4NFpi",
        "outputId": "c245cba4-6edc-4858-e7e1-dd99639b9bba"
      },
      "outputs": [
        {
          "name": "stdout",
          "output_type": "stream",
          "text": [
            "string\n"
          ]
        }
      ],
      "source": [
        "xnum = 0.01       # Floating point number with two significant digits\n",
        "xint = 1          # Integer\n",
        "xstr = \"string\"   # String (non-numeric variable) is a group of characters\n",
        "print(xstr)"
      ]
    },
    {
      "cell_type": "markdown",
      "metadata": {
        "id": "s5FpThi2NFpj"
      },
      "source": [
        "*Working with arrays: An **array** is a vector of homogeneous items (ex. an array of numbers)*"
      ]
    },
    {
      "cell_type": "code",
      "execution_count": null,
      "metadata": {
        "id": "7qNsWpksNFpj",
        "outputId": "46dff9d7-3697-4ff5-e599-b9673a6ebac2"
      },
      "outputs": [
        {
          "name": "stdout",
          "output_type": "stream",
          "text": [
            "0\n"
          ]
        }
      ],
      "source": [
        "import array                       # The import command is how you bring a python package into your computing space\n",
        "xarr = array.array('i',[0, 1, 2])  # An array is a vector of homogeneous items (ex. an array of numbers)\n",
        "print(xarr[0])                     # Print the first item in the array (notice that the first item starts with 0)"
      ]
    },
    {
      "cell_type": "markdown",
      "metadata": {
        "id": "rKKJlGeHNFpj"
      },
      "source": [
        "*Working with Lists: A **List** is a group of items that can be heterogeneous (ex. strings, numbers, arrays, etc.). You can do much more with lists than arrays*"
      ]
    },
    {
      "cell_type": "code",
      "execution_count": null,
      "metadata": {
        "id": "JI0UHs8JNFpk",
        "outputId": "8e7e65ec-9188-4b1a-9737-5ef9c04f79c8"
      },
      "outputs": [
        {
          "name": "stdout",
          "output_type": "stream",
          "text": [
            "[2, 'string']\n",
            "string\n"
          ]
        }
      ],
      "source": [
        "xlist = [2,\"string\"]               # Assign a number and a string to a list\n",
        "print(xlist)                       # Print the entire list\n",
        "print(xlist[1])                    # Print item 2 in the list"
      ]
    },
    {
      "cell_type": "code",
      "execution_count": null,
      "metadata": {
        "id": "7GVJX8bQNFpk",
        "outputId": "2c381931-1cd0-407b-bdf4-49189020172e"
      },
      "outputs": [
        {
          "name": "stdout",
          "output_type": "stream",
          "text": [
            "[2, 'string', [1, 2]]\n",
            "[1, 2]\n",
            "2\n"
          ]
        }
      ],
      "source": [
        "xlist = [2,\"string\",[1,2]]         # Assign a number, a string, and an array to a list\n",
        "                                   # Unlike an array, you do not need to explicitly declare it\n",
        "print(xlist)                       # Print the entire list\n",
        "print(xlist[2])                    # Print item 3 in the list\n",
        "print(xlist[2][1])                 # Print the second array item for item 3 in the list"
      ]
    },
    {
      "cell_type": "code",
      "execution_count": null,
      "metadata": {
        "id": "HHyPUTTdNFpl",
        "outputId": "9142b123-4078-4b8b-cc94-6f78cf06b7b1"
      },
      "outputs": [
        {
          "name": "stdout",
          "output_type": "stream",
          "text": [
            "[2, 'string', [1, 2], 3]\n"
          ]
        }
      ],
      "source": [
        "xlist.append(3)                    # You can easily append a new item to the list, using a built in function for a list type\n",
        "print(xlist)"
      ]
    },
    {
      "cell_type": "code",
      "execution_count": null,
      "metadata": {
        "id": "O_NyYYTpNFpl",
        "outputId": "7b738e89-2e6a-4b31-a09d-59d369544a6c"
      },
      "outputs": [
        {
          "data": {
            "text/plain": [
              "int"
            ]
          },
          "execution_count": 9,
          "metadata": {
            "tags": []
          },
          "output_type": "execute_result"
        }
      ],
      "source": [
        "type(xlist[0])                     # Determine the type of an item in a list (this item is an integer, int)"
      ]
    },
    {
      "cell_type": "code",
      "execution_count": null,
      "metadata": {
        "id": "HAc4DVa0NFpm",
        "outputId": "80d0ee64-0d44-4f0a-ed47-1e6a68f565ce"
      },
      "outputs": [
        {
          "data": {
            "text/plain": [
              "str"
            ]
          },
          "execution_count": 10,
          "metadata": {
            "tags": []
          },
          "output_type": "execute_result"
        }
      ],
      "source": [
        "type(xlist[1])                     # Determine the type of an item in a list (this item is a string, str)"
      ]
    },
    {
      "cell_type": "markdown",
      "metadata": {
        "id": "S-XJBnYfNFpm"
      },
      "source": [
        "*Working with Sets: A **Set** is an unordered group of unique items (ex. colors 'red','orange',etc.). You can do much more with lists than arrays*"
      ]
    },
    {
      "cell_type": "code",
      "execution_count": null,
      "metadata": {
        "id": "oOX_Lx-pNFpm",
        "outputId": "dd2c35c9-7049-4fc2-fbc9-270b994ec76d"
      },
      "outputs": [
        {
          "name": "stdout",
          "output_type": "stream",
          "text": [
            "{'orange', 'red', 'blue'}\n"
          ]
        }
      ],
      "source": [
        "xset = {'red','blue','orange'}     # You create a set by using {}, with the items separated by commas\n",
        "print(xset)"
      ]
    },
    {
      "cell_type": "code",
      "execution_count": null,
      "metadata": {
        "id": "5896El2-NFpn",
        "outputId": "cb37e7e7-4171-456d-fb84-d7db8bc1cac7"
      },
      "outputs": [
        {
          "data": {
            "text/plain": [
              "True"
            ]
          },
          "execution_count": 12,
          "metadata": {
            "tags": []
          },
          "output_type": "execute_result"
        }
      ],
      "source": [
        "'blue' in xset                     # You can use built in functions. This example shows how you can easily check to see if 'blue' is in the set *xset**"
      ]
    },
    {
      "cell_type": "code",
      "execution_count": null,
      "metadata": {
        "id": "Utx5aPC4NFpn",
        "outputId": "9428283e-ffb5-41b7-c865-1adf8cf5b5f4"
      },
      "outputs": [
        {
          "name": "stdout",
          "output_type": "stream",
          "text": [
            "{'orange', 'red', 'blue'}\n"
          ]
        }
      ],
      "source": [
        "xset = set({'red','red','blue','orange'})  # Set must be unique. The Set command automatically finds the unique items\n",
        "print(xset)"
      ]
    },
    {
      "cell_type": "markdown",
      "metadata": {
        "id": "X-11MPR1NFpn"
      },
      "source": [
        "*Working with Dictionaries: A* **Dictionary** *is a sequence that is indexed by* **keys**"
      ]
    },
    {
      "cell_type": "code",
      "execution_count": null,
      "metadata": {
        "id": "jgEts7BXNFpn",
        "outputId": "777d31ca-6692-4266-b109-8d866ac4aa2d"
      },
      "outputs": [
        {
          "name": "stdout",
          "output_type": "stream",
          "text": [
            "{'red': 1, 'blue': 2}\n",
            "1\n"
          ]
        }
      ],
      "source": [
        "xdict = {'red': 1, 'blue': 2}      # You define a dictionary similar to a set, but must add the associated values to each key\n",
        "print(xdict)                       # Print the full dictionary\n",
        "print(xdict['red'])                # Determine the value associated with the 'red' key"
      ]
    },
    {
      "cell_type": "markdown",
      "metadata": {
        "id": "FOALLdD8NFpo"
      },
      "source": [
        "### Scientific Computing with Python (Numpy Package)"
      ]
    },
    {
      "cell_type": "markdown",
      "metadata": {
        "id": "6i6OpwXxNFpo"
      },
      "source": [
        "*References:*  \n",
        "    \n",
        "* http://www.numpy.org/\n",
        "* [Python Data Science Handbook by Jake VanderPlas](https://www.oreilly.com/library/view/python-data-science/9781491912126/)\n",
        "* [Colab Notebook for 'Python Data Science Handbook'](https://colab.research.google.com/github/jakevdp/PythonDataScienceHandbook/blob/master/notebooks/Index.ipynb#scrollTo=rRb4rMNoRbvz)"
      ]
    },
    {
      "cell_type": "markdown",
      "metadata": {
        "id": "H8MqMmG0NFpo"
      },
      "source": [
        "**Numpy** *is a python programming library that is focused on working with large data sets (arrays and matrices) and includes numerous math functions for operating on data sets*\n",
        ">[Python Data Science Handbook: Introduction to NumPy](https://colab.research.google.com/github/jakevdp/PythonDataScienceHandbook/blob/master/notebooks/02.00-Introduction-to-NumPy.ipynb#scrollTo=mEY3h_qNR-nT)"
      ]
    },
    {
      "cell_type": "markdown",
      "metadata": {
        "id": "lNGfXuPnNFpp"
      },
      "source": [
        "Note that Numpy is very powerful for mathematical computations, where the fundamental items are numeric (similar to an array)"
      ]
    },
    {
      "cell_type": "code",
      "execution_count": null,
      "metadata": {
        "id": "dwITHn_FNFpp",
        "outputId": "20da679a-ad08-46eb-e871-1918f1fb2b59"
      },
      "outputs": [
        {
          "name": "stdout",
          "output_type": "stream",
          "text": [
            "[0 1 2]\n",
            "0\n"
          ]
        }
      ],
      "source": [
        "import numpy as np                # When importing library packages, you should include the 'as x' statement to differentiate from other packages\n",
        "xnparr = np.array([0, 1, 2])      # An example of defining an array using Numpy\n",
        "print(xnparr)                     # Print the full Numpy array\n",
        "print(xnparr[0])                  # Print the 1st item in the Numpy array"
      ]
    },
    {
      "cell_type": "markdown",
      "metadata": {
        "id": "KJyCybXHNFpp"
      },
      "source": [
        "You can use built in Numpy functions to quickly create arrays for calculations"
      ]
    },
    {
      "cell_type": "code",
      "execution_count": null,
      "metadata": {
        "id": "9Cczic2HNFpp",
        "outputId": "fc4dbe9f-17ef-4e91-fbef-57c88cdd35f9"
      },
      "outputs": [
        {
          "data": {
            "text/plain": [
              "array([0., 0., 0.])"
            ]
          },
          "execution_count": 16,
          "metadata": {
            "tags": []
          },
          "output_type": "execute_result"
        }
      ],
      "source": [
        "np.zeros(3)                       # Create an array of 3 zeros"
      ]
    },
    {
      "cell_type": "code",
      "execution_count": null,
      "metadata": {
        "id": "b-l5y7A4NFpq",
        "outputId": "476bce26-3642-4e0e-c9fc-f906b25f0a3a"
      },
      "outputs": [
        {
          "data": {
            "text/plain": [
              "array([[1., 0., 0.],\n",
              "       [0., 1., 0.],\n",
              "       [0., 0., 1.]])"
            ]
          },
          "execution_count": 17,
          "metadata": {
            "tags": []
          },
          "output_type": "execute_result"
        }
      ],
      "source": [
        "np.eye(3)                         # Create a 3x3 identity matrix"
      ]
    },
    {
      "cell_type": "code",
      "execution_count": null,
      "metadata": {
        "id": "Fqmq3eu7NFpq",
        "outputId": "5e6ea43f-f33a-4c6b-be7a-b186cf9da589"
      },
      "outputs": [
        {
          "data": {
            "text/plain": [
              "array([ 0. ,  2.5,  5. ,  7.5, 10. ])"
            ]
          },
          "execution_count": 18,
          "metadata": {
            "tags": []
          },
          "output_type": "execute_result"
        }
      ],
      "source": [
        "np.linspace(0,10,5)               # Create a linearly increasing array, starting with 0, ending with 10, with 5 items"
      ]
    },
    {
      "cell_type": "code",
      "execution_count": null,
      "metadata": {
        "id": "nrjRzLK6NFpq",
        "outputId": "4b8b884d-a0d0-40ed-a004-d46575656502"
      },
      "outputs": [
        {
          "data": {
            "text/plain": [
              "array([[ 1,  2,  3],\n",
              "       [-3,  0,  0],\n",
              "       [-1,  0,  1]])"
            ]
          },
          "execution_count": 19,
          "metadata": {
            "tags": []
          },
          "output_type": "execute_result"
        }
      ],
      "source": [
        "np.array([[ 1,  2, 3],            # Specify a 2x2 array (i.e. matrix)\n",
        "       [ -3,  0,  0],\n",
        "       [ -1,  0,  1]])"
      ]
    },
    {
      "cell_type": "markdown",
      "metadata": {
        "id": "jr4Aub_RNFpr"
      },
      "source": [
        "Assign Numpy arrays to variables"
      ]
    },
    {
      "cell_type": "code",
      "execution_count": null,
      "metadata": {
        "id": "sMqbMlyrNFpr",
        "outputId": "bcd14f89-f7c8-4e5c-be92-73b4e49ba1a5"
      },
      "outputs": [
        {
          "name": "stdout",
          "output_type": "stream",
          "text": [
            "[[ 1  2  3]\n",
            " [-3  0  0]\n",
            " [-1  0  1]]\n"
          ]
        }
      ],
      "source": [
        "xnparray = np.array([[ 1,  2, 3],            # Assign a 2x2 array (i.e. matrix) to the variable xnparray\n",
        "       [ -3,  0,  0],\n",
        "       [ -1,  0,  1]])\n",
        "print(xnparray)"
      ]
    },
    {
      "cell_type": "code",
      "execution_count": null,
      "metadata": {
        "id": "uJzG5fbSNFpr",
        "outputId": "c575268e-8013-40d2-a38f-2925e182a925"
      },
      "outputs": [
        {
          "name": "stdout",
          "output_type": "stream",
          "text": [
            "Shape is  (3, 3)\n",
            "Size is  9\n",
            "# of dimensions is  2\n"
          ]
        }
      ],
      "source": [
        "print(\"Shape is \",xnparray.shape)                # Print the shape of the array\n",
        "print(\"Size is \",xnparray.size)                  # Print the size of the array\n",
        "print(\"# of dimensions is \",xnparray.ndim)       # Print the number of dimensions of the array"
      ]
    },
    {
      "cell_type": "markdown",
      "metadata": {
        "id": "DlovtNp7NFps"
      },
      "source": [
        "Use indexing to select an item (similar to regular Python arrays)"
      ]
    },
    {
      "cell_type": "code",
      "execution_count": null,
      "metadata": {
        "id": "jjFp7piINFpt",
        "outputId": "8588accc-a1c9-4e7e-e9d9-c18de1114f96"
      },
      "outputs": [
        {
          "data": {
            "text/plain": [
              "2"
            ]
          },
          "execution_count": 22,
          "metadata": {
            "tags": []
          },
          "output_type": "execute_result"
        }
      ],
      "source": [
        "xnparray[0][1]                                   # Print the item in the 1st row and 2nd column of the array"
      ]
    },
    {
      "cell_type": "code",
      "execution_count": null,
      "metadata": {
        "id": "upKBvd4kNFpt",
        "outputId": "c79569c3-6053-4299-a9dc-783720fbc6aa"
      },
      "outputs": [
        {
          "data": {
            "text/plain": [
              "1"
            ]
          },
          "execution_count": 23,
          "metadata": {
            "tags": []
          },
          "output_type": "execute_result"
        }
      ],
      "source": [
        "xnparray[-1][-1]                                 # Print the item in the last row and last column"
      ]
    },
    {
      "cell_type": "code",
      "execution_count": null,
      "metadata": {
        "id": "IwtObZVkNFpt",
        "outputId": "cc620576-97ce-4f64-9771-1a1909af17e9"
      },
      "outputs": [
        {
          "data": {
            "text/plain": [
              "array([-3,  0,  0])"
            ]
          },
          "execution_count": 24,
          "metadata": {
            "tags": []
          },
          "output_type": "execute_result"
        }
      ],
      "source": [
        "xnparray[1,:]                                    # Slice an array using :  (ex. show the second row)"
      ]
    },
    {
      "cell_type": "code",
      "execution_count": null,
      "metadata": {
        "id": "WHLdgZI4NFpu",
        "outputId": "a53504f4-0d17-4b7b-dcc0-78d07552eb4f"
      },
      "outputs": [
        {
          "data": {
            "text/plain": [
              "array([2, 0, 0])"
            ]
          },
          "execution_count": 25,
          "metadata": {
            "tags": []
          },
          "output_type": "execute_result"
        }
      ],
      "source": [
        "xnparray[:,1]                                    # Slice an array using :  (ex. show the second column)"
      ]
    },
    {
      "cell_type": "code",
      "execution_count": null,
      "metadata": {
        "id": "aoYX-mlCNFpu",
        "outputId": "a80b34f4-e800-4ad6-cb1f-cad2e85c52a9"
      },
      "outputs": [
        {
          "name": "stdout",
          "output_type": "stream",
          "text": [
            "[[ 1  2  3]\n",
            " [ 1  1  1]\n",
            " [-1  0  1]]\n"
          ]
        }
      ],
      "source": [
        "xnparray[1,:] = 1                                # Reassign values across an array (ex. set row 2 to the value 1)\n",
        "print(xnparray)"
      ]
    },
    {
      "cell_type": "code",
      "execution_count": null,
      "metadata": {
        "id": "Gej43r64NFpu",
        "outputId": "e52bb496-efea-4521-9a60-e180c730f96e"
      },
      "outputs": [
        {
          "data": {
            "text/plain": [
              "array([[ 1],\n",
              "       [ 2],\n",
              "       [ 3],\n",
              "       [ 1],\n",
              "       [ 1],\n",
              "       [ 1],\n",
              "       [-1],\n",
              "       [ 0],\n",
              "       [ 1]])"
            ]
          },
          "execution_count": 27,
          "metadata": {
            "tags": []
          },
          "output_type": "execute_result"
        }
      ],
      "source": [
        "xnparray.reshape(9,1)                            # Reshape the array to a 9x1 array"
      ]
    },
    {
      "cell_type": "code",
      "execution_count": null,
      "metadata": {
        "id": "dTcfYOIoNFpv",
        "outputId": "efb13c1d-ddae-4caa-9797-bb2607f77eaa"
      },
      "outputs": [
        {
          "data": {
            "text/plain": [
              "array([[ 0.5,  1. ,  1.5],\n",
              "       [ 0.5,  0.5,  0.5],\n",
              "       [-0.5,  0. ,  0.5]])"
            ]
          },
          "execution_count": 28,
          "metadata": {
            "tags": []
          },
          "output_type": "execute_result"
        }
      ],
      "source": [
        "xnparray/2                                       # Math is easy with Numpy (each item is divided by 2)"
      ]
    },
    {
      "cell_type": "markdown",
      "metadata": {
        "id": "NqJJtieKNFpv"
      },
      "source": [
        "## Overview of Python Pandas Dataframe"
      ]
    },
    {
      "cell_type": "markdown",
      "metadata": {
        "id": "QD_6oN_oNFpv"
      },
      "source": [
        "**Pandas** *is a large python library dedicated to performance data analysis and transformations, which combines numerical and database capabilities into one package*\n",
        "*Many data scientists spend a large portion of time using the Pandas library. It is arguably one of the most widely and commonly used Python libraries.*\n",
        "> *References*\n",
        "> * https://pandas.pydata.org/\n",
        "> * [Python Data Science Handbook: Introduction to Pandas](https://colab.research.google.com/github/jakevdp/PythonDataScienceHandbook/blob/master/notebooks/03.00-Introduction-to-Pandas.ipynb)"
      ]
    },
    {
      "cell_type": "markdown",
      "metadata": {
        "id": "MI8d7i3_NFpw"
      },
      "source": [
        "*Pandas builds upon the previous data types (ex. Numpy) by creating what is called a* **data structure** *type. Data structures are abstract groupings and mappings for multiple items.\n",
        "Think of a data structure as a more generalized type of list. And, the specific data structure object, in python, is called a* **dataframe**. *Pandas Dataframes are very powerful data analysis objects. And, the Pandas library allows you to perform countless operations on this relatonal and labeled data.*"
      ]
    },
    {
      "cell_type": "markdown",
      "metadata": {
        "id": "maHuQB9VNFpw"
      },
      "source": [
        "#### Example 2.1: Solar PV System Performance - Importing and Inspecting the Data"
      ]
    },
    {
      "cell_type": "markdown",
      "metadata": {
        "id": "89RGEuaXNFpw"
      },
      "source": [
        "![Example2.1_data_import_inspection.png](attachment:06bba1c2-4227-40b4-ac1a-70a8878fef75.png)"
      ]
    },
    {
      "cell_type": "code",
      "execution_count": null,
      "metadata": {
        "collapsed": true,
        "id": "TBMyshNNNFpw",
        "jupyter": {
          "outputs_hidden": true
        },
        "outputId": "1623b2eb-4512-42b2-b2b8-da091016a174"
      },
      "outputs": [
        {
          "name": "stderr",
          "output_type": "stream",
          "text": [
            "b'Skipping line 8500: expected 7 fields, saw 117\\nSkipping line 8863: expected 7 fields, saw 32\\nSkipping line 13537: expected 7 fields, saw 2737\\nSkipping line 13542: expected 7 fields, saw 12\\nSkipping line 34453: expected 7 fields, saw 27\\nSkipping line 34509: expected 7 fields, saw 27\\nSkipping line 50945: expected 7 fields, saw 20342\\nSkipping line 53304: expected 7 fields, saw 27\\nSkipping line 53587: expected 7 fields, saw 17\\nSkipping line 53763: expected 7 fields, saw 27\\nSkipping line 67878: expected 7 fields, saw 27\\nSkipping line 67919: expected 7 fields, saw 27\\nSkipping line 70203: expected 7 fields, saw 27\\nSkipping line 71144: expected 7 fields, saw 1642\\nSkipping line 104953: expected 7 fields, saw 11282\\nSkipping line 105737: expected 7 fields, saw 92\\nSkipping line 115698: expected 7 fields, saw 22\\nSkipping line 116707: expected 7 fields, saw 32\\nSkipping line 116713: expected 7 fields, saw 37\\nSkipping line 119348: expected 7 fields, saw 52\\n'\n",
            "b'Skipping line 136239: expected 7 fields, saw 232\\nSkipping line 137054: expected 7 fields, saw 122\\nSkipping line 137621: expected 7 fields, saw 2697\\nSkipping line 137622: expected 7 fields, saw 32\\nSkipping line 137623: expected 7 fields, saw 17\\nSkipping line 137625: expected 7 fields, saw 12\\nSkipping line 137627: expected 7 fields, saw 12\\nSkipping line 141386: expected 7 fields, saw 17\\nSkipping line 141389: expected 7 fields, saw 17\\nSkipping line 141391: expected 7 fields, saw 17\\nSkipping line 141392: expected 7 fields, saw 12\\nSkipping line 141393: expected 7 fields, saw 22\\nSkipping line 153849: expected 7 fields, saw 32\\nSkipping line 158494: expected 7 fields, saw 82\\nSkipping line 160646: expected 7 fields, saw 42\\nSkipping line 168216: expected 7 fields, saw 22\\nSkipping line 168220: expected 7 fields, saw 17\\nSkipping line 168221: expected 7 fields, saw 12\\nSkipping line 168825: expected 7 fields, saw 27\\nSkipping line 168854: expected 7 fields, saw 37\\nSkipping line 173023: expected 7 fields, saw 112\\nSkipping line 173031: expected 7 fields, saw 27\\nSkipping line 173124: expected 7 fields, saw 17\\nSkipping line 173605: expected 7 fields, saw 27\\nSkipping line 177234: expected 7 fields, saw 27\\nSkipping line 177482: expected 7 fields, saw 27\\nSkipping line 177973: expected 7 fields, saw 27\\nSkipping line 177981: expected 7 fields, saw 27\\nSkipping line 177985: expected 7 fields, saw 32\\nSkipping line 177988: expected 7 fields, saw 12\\nSkipping line 177989: expected 7 fields, saw 12\\nSkipping line 179137: expected 7 fields, saw 37\\nSkipping line 179141: expected 7 fields, saw 52\\nSkipping line 188092: expected 7 fields, saw 22\\nSkipping line 188713: expected 7 fields, saw 57\\nSkipping line 188722: expected 7 fields, saw 42\\nSkipping line 188735: expected 7 fields, saw 42\\nSkipping line 189326: expected 7 fields, saw 37\\nSkipping line 189340: expected 7 fields, saw 77\\nSkipping line 192128: expected 7 fields, saw 532\\nSkipping line 193156: expected 7 fields, saw 22\\nSkipping line 193158: expected 7 fields, saw 12\\nSkipping line 193159: expected 7 fields, saw 32\\nSkipping line 194041: expected 7 fields, saw 12\\nSkipping line 195149: expected 7 fields, saw 57\\nSkipping line 197933: expected 7 fields, saw 27\\nSkipping line 198573: expected 7 fields, saw 22\\nSkipping line 198591: expected 7 fields, saw 12\\nSkipping line 203694: expected 7 fields, saw 32\\nSkipping line 203699: expected 7 fields, saw 97\\nSkipping line 204021: expected 7 fields, saw 37\\nSkipping line 204112: expected 7 fields, saw 27\\nSkipping line 204115: expected 7 fields, saw 22\\nSkipping line 209446: expected 7 fields, saw 12\\nSkipping line 209447: expected 7 fields, saw 12\\nSkipping line 209450: expected 7 fields, saw 22\\nSkipping line 209451: expected 7 fields, saw 22\\nSkipping line 209454: expected 7 fields, saw 17\\nSkipping line 215888: expected 7 fields, saw 32\\nSkipping line 220026: expected 7 fields, saw 27\\nSkipping line 220032: expected 7 fields, saw 27\\nSkipping line 226047: expected 7 fields, saw 27\\nSkipping line 237581: expected 7 fields, saw 72\\n'\n",
            "b'Skipping line 263010: expected 7 fields, saw 37\\nSkipping line 269326: expected 7 fields, saw 27\\nSkipping line 270170: expected 7 fields, saw 27\\nSkipping line 270754: expected 7 fields, saw 152\\nSkipping line 271181: expected 7 fields, saw 152\\nSkipping line 271227: expected 7 fields, saw 37\\nSkipping line 293971: expected 7 fields, saw 11\\nSkipping line 313145: expected 7 fields, saw 12\\nSkipping line 358374: expected 7 fields, saw 12\\nSkipping line 366185: expected 7 fields, saw 12\\nSkipping line 388183: expected 7 fields, saw 17\\nSkipping line 388184: expected 7 fields, saw 22\\nSkipping line 388185: expected 7 fields, saw 17\\nSkipping line 388186: expected 7 fields, saw 12\\nSkipping line 388189: expected 7 fields, saw 22\\nSkipping line 388192: expected 7 fields, saw 12\\nSkipping line 388271: expected 7 fields, saw 12\\nSkipping line 388284: expected 7 fields, saw 12\\nSkipping line 388288: expected 7 fields, saw 17\\nSkipping line 388291: expected 7 fields, saw 17\\nSkipping line 388292: expected 7 fields, saw 12\\nSkipping line 388295: expected 7 fields, saw 17\\nSkipping line 388298: expected 7 fields, saw 27\\nSkipping line 388299: expected 7 fields, saw 12\\nSkipping line 388302: expected 7 fields, saw 42\\nSkipping line 388303: expected 7 fields, saw 42\\nSkipping line 388304: expected 7 fields, saw 17\\nSkipping line 388305: expected 7 fields, saw 17\\nSkipping line 388306: expected 7 fields, saw 27\\nSkipping line 388308: expected 7 fields, saw 17\\nSkipping line 388311: expected 7 fields, saw 17\\nSkipping line 388312: expected 7 fields, saw 12\\nSkipping line 388313: expected 7 fields, saw 27\\nSkipping line 388315: expected 7 fields, saw 42\\nSkipping line 388316: expected 7 fields, saw 42\\nSkipping line 388318: expected 7 fields, saw 37\\nSkipping line 388320: expected 7 fields, saw 12\\nSkipping line 388321: expected 7 fields, saw 17\\nSkipping line 388322: expected 7 fields, saw 42\\nSkipping line 388323: expected 7 fields, saw 132\\nSkipping line 388324: expected 7 fields, saw 72\\nSkipping line 388327: expected 7 fields, saw 17\\nSkipping line 388329: expected 7 fields, saw 17\\nSkipping line 388387: expected 7 fields, saw 17\\nSkipping line 388416: expected 7 fields, saw 12\\nSkipping line 388417: expected 7 fields, saw 22\\nSkipping line 388418: expected 7 fields, saw 12\\nSkipping line 388421: expected 7 fields, saw 17\\nSkipping line 388426: expected 7 fields, saw 12\\nSkipping line 388429: expected 7 fields, saw 12\\nSkipping line 388433: expected 7 fields, saw 12\\nSkipping line 388434: expected 7 fields, saw 12\\nSkipping line 388435: expected 7 fields, saw 12\\nSkipping line 388436: expected 7 fields, saw 12\\nSkipping line 388462: expected 7 fields, saw 12\\nSkipping line 388471: expected 7 fields, saw 57\\nSkipping line 388472: expected 7 fields, saw 12\\nSkipping line 388473: expected 7 fields, saw 32\\nSkipping line 388488: expected 7 fields, saw 12\\nSkipping line 388493: expected 7 fields, saw 17\\nSkipping line 388494: expected 7 fields, saw 17\\n'\n",
            "b'Skipping line 407955: expected 7 fields, saw 27\\nSkipping line 437913: expected 7 fields, saw 32\\nSkipping line 441491: expected 7 fields, saw 42\\nSkipping line 441494: expected 7 fields, saw 52\\nSkipping line 509903: expected 7 fields, saw 12\\n'\n",
            "b'Skipping line 588639: expected 7 fields, saw 12\\nSkipping line 618787: expected 7 fields, saw 12\\nSkipping line 622702: expected 7 fields, saw 627\\nSkipping line 622733: expected 7 fields, saw 117\\nSkipping line 625444: expected 7 fields, saw 27\\nSkipping line 625460: expected 7 fields, saw 27\\nSkipping line 633558: expected 7 fields, saw 27\\nSkipping line 653344: expected 7 fields, saw 12\\n'\n",
            "b'Skipping line 674455: expected 7 fields, saw 27\\nSkipping line 674471: expected 7 fields, saw 27\\nSkipping line 685477: expected 7 fields, saw 22\\nSkipping line 685483: expected 7 fields, saw 27\\nSkipping line 688851: expected 7 fields, saw 27\\nSkipping line 690975: expected 7 fields, saw 27\\nSkipping line 709883: expected 7 fields, saw 27\\nSkipping line 710277: expected 7 fields, saw 12\\nSkipping line 722512: expected 7 fields, saw 27\\nSkipping line 722518: expected 7 fields, saw 32\\nSkipping line 724766: expected 7 fields, saw 32\\nSkipping line 733497: expected 7 fields, saw 20997\\nSkipping line 734943: expected 7 fields, saw 27\\nSkipping line 737054: expected 7 fields, saw 11\\nSkipping line 740007: expected 7 fields, saw 27\\nSkipping line 749109: expected 7 fields, saw 27\\nSkipping line 758033: expected 7 fields, saw 22\\n'\n",
            "b'Skipping line 795808: expected 7 fields, saw 307\\nSkipping line 796377: expected 7 fields, saw 307\\nSkipping line 798541: expected 7 fields, saw 197\\nSkipping line 820633: expected 7 fields, saw 12\\nSkipping line 840445: expected 7 fields, saw 12\\nSkipping line 870826: expected 7 fields, saw 307\\nSkipping line 871552: expected 7 fields, saw 12\\nSkipping line 872593: expected 7 fields, saw 307\\nSkipping line 874680: expected 7 fields, saw 307\\nSkipping line 874777: expected 7 fields, saw 307\\nSkipping line 874845: expected 7 fields, saw 272\\nSkipping line 877766: expected 7 fields, saw 307\\nSkipping line 882903: expected 7 fields, saw 27\\nSkipping line 911467: expected 7 fields, saw 27\\n'\n",
            "b'Skipping line 936367: expected 7 fields, saw 11172\\nSkipping line 939159: expected 7 fields, saw 12\\nSkipping line 940336: expected 7 fields, saw 27\\nSkipping line 963252: expected 7 fields, saw 27\\nSkipping line 963253: expected 7 fields, saw 37\\nSkipping line 963256: expected 7 fields, saw 27\\nSkipping line 963258: expected 7 fields, saw 27\\nSkipping line 1020305: expected 7 fields, saw 32\\nSkipping line 1022835: expected 7 fields, saw 19\\n'\n",
            "b'Skipping line 1072828: expected 7 fields, saw 1537\\nSkipping line 1076495: expected 7 fields, saw 937\\nSkipping line 1077777: expected 7 fields, saw 87\\nSkipping line 1078588: expected 7 fields, saw 772\\nSkipping line 1087455: expected 7 fields, saw 27\\nSkipping line 1112928: expected 7 fields, saw 27\\n'\n",
            "b'Skipping line 1179929: expected 7 fields, saw 27\\nSkipping line 1182616: expected 7 fields, saw 52\\nSkipping line 1190402: expected 7 fields, saw 27\\nSkipping line 1223972: expected 7 fields, saw 12\\nSkipping line 1238804: expected 7 fields, saw 1847\\nSkipping line 1243711: expected 7 fields, saw 12\\nSkipping line 1253604: expected 7 fields, saw 12\\nSkipping line 1262768: expected 7 fields, saw 17\\nSkipping line 1267432: expected 7 fields, saw 12\\nSkipping line 1271623: expected 7 fields, saw 17\\nSkipping line 1275830: expected 7 fields, saw 12\\nSkipping line 1280094: expected 7 fields, saw 17\\nSkipping line 1304050: expected 7 fields, saw 12\\nSkipping line 1306695: expected 7 fields, saw 1907\\nSkipping line 1307159: expected 7 fields, saw 12\\n'\n",
            "b'Skipping line 1323746: expected 7 fields, saw 12\\nSkipping line 1332402: expected 7 fields, saw 17\\nSkipping line 1336621: expected 7 fields, saw 17\\nSkipping line 1341236: expected 7 fields, saw 17\\nSkipping line 1353957: expected 7 fields, saw 317\\nSkipping line 1358309: expected 7 fields, saw 17\\nSkipping line 1387144: expected 7 fields, saw 52\\nSkipping line 1387147: expected 7 fields, saw 72\\nSkipping line 1440999: expected 7 fields, saw 327\\n'\n",
            "b'Skipping line 1481882: expected 7 fields, saw 11\\nSkipping line 1481883: expected 7 fields, saw 11\\n'\n"
          ]
        }
      ],
      "source": [
        "import pandas as pd                             # Import the pandas library as the object named 'pd'\n",
        "\n",
        "url=\"https://storage.googleapis.com/nrel-datahub/NREL_DataHub_PVDAQ\"    # Assign the data source URL as a variable called 'url'\n",
        "data=pd.read_csv(url, sep=',', header=None, error_bad_lines=False)      # Create pandas dataframe, pd, by reading the url data as a csv formatted data file"
      ]
    },
    {
      "cell_type": "code",
      "execution_count": null,
      "metadata": {
        "collapsed": true,
        "id": "92EJaK9ZNFpx",
        "jupyter": {
          "outputs_hidden": true
        },
        "outputId": "11cb0141-4d8e-4d88-b502-739f005ff312"
      },
      "outputs": [
        {
          "name": "stdout",
          "output_type": "stream",
          "text": [
            "Help on function read_csv in module pandas.io.parsers:\n",
            "\n",
            "read_csv(filepath_or_buffer: Union[ForwardRef('PathLike[str]'), str, IO[~T], io.RawIOBase, io.BufferedIOBase, io.TextIOBase, _io.TextIOWrapper, mmap.mmap], sep=<object object at 0x000001E2C6D77860>, delimiter=None, header='infer', names=None, index_col=None, usecols=None, squeeze=False, prefix=None, mangle_dupe_cols=True, dtype=None, engine=None, converters=None, true_values=None, false_values=None, skipinitialspace=False, skiprows=None, skipfooter=0, nrows=None, na_values=None, keep_default_na=True, na_filter=True, verbose=False, skip_blank_lines=True, parse_dates=False, infer_datetime_format=False, keep_date_col=False, date_parser=None, dayfirst=False, cache_dates=True, iterator=False, chunksize=None, compression='infer', thousands=None, decimal: str = '.', lineterminator=None, quotechar='\"', quoting=0, doublequote=True, escapechar=None, comment=None, encoding=None, dialect=None, error_bad_lines=True, warn_bad_lines=True, delim_whitespace=False, low_memory=True, memory_map=False, float_precision=None, storage_options: Union[Dict[str, Any], NoneType] = None)\n",
            "    Read a comma-separated values (csv) file into DataFrame.\n",
            "    \n",
            "    Also supports optionally iterating or breaking of the file\n",
            "    into chunks.\n",
            "    \n",
            "    Additional help can be found in the online docs for\n",
            "    `IO Tools <https://pandas.pydata.org/pandas-docs/stable/user_guide/io.html>`_.\n",
            "    \n",
            "    Parameters\n",
            "    ----------\n",
            "    filepath_or_buffer : str, path object or file-like object\n",
            "        Any valid string path is acceptable. The string could be a URL. Valid\n",
            "        URL schemes include http, ftp, s3, gs, and file. For file URLs, a host is\n",
            "        expected. A local file could be: file://localhost/path/to/table.csv.\n",
            "    \n",
            "        If you want to pass in a path object, pandas accepts any ``os.PathLike``.\n",
            "    \n",
            "        By file-like object, we refer to objects with a ``read()`` method, such as\n",
            "        a file handle (e.g. via builtin ``open`` function) or ``StringIO``.\n",
            "    sep : str, default ','\n",
            "        Delimiter to use. If sep is None, the C engine cannot automatically detect\n",
            "        the separator, but the Python parsing engine can, meaning the latter will\n",
            "        be used and automatically detect the separator by Python's builtin sniffer\n",
            "        tool, ``csv.Sniffer``. In addition, separators longer than 1 character and\n",
            "        different from ``'\\s+'`` will be interpreted as regular expressions and\n",
            "        will also force the use of the Python parsing engine. Note that regex\n",
            "        delimiters are prone to ignoring quoted data. Regex example: ``'\\r\\t'``.\n",
            "    delimiter : str, default ``None``\n",
            "        Alias for sep.\n",
            "    header : int, list of int, default 'infer'\n",
            "        Row number(s) to use as the column names, and the start of the\n",
            "        data.  Default behavior is to infer the column names: if no names\n",
            "        are passed the behavior is identical to ``header=0`` and column\n",
            "        names are inferred from the first line of the file, if column\n",
            "        names are passed explicitly then the behavior is identical to\n",
            "        ``header=None``. Explicitly pass ``header=0`` to be able to\n",
            "        replace existing names. The header can be a list of integers that\n",
            "        specify row locations for a multi-index on the columns\n",
            "        e.g. [0,1,3]. Intervening rows that are not specified will be\n",
            "        skipped (e.g. 2 in this example is skipped). Note that this\n",
            "        parameter ignores commented lines and empty lines if\n",
            "        ``skip_blank_lines=True``, so ``header=0`` denotes the first line of\n",
            "        data rather than the first line of the file.\n",
            "    names : array-like, optional\n",
            "        List of column names to use. If the file contains a header row,\n",
            "        then you should explicitly pass ``header=0`` to override the column names.\n",
            "        Duplicates in this list are not allowed.\n",
            "    index_col : int, str, sequence of int / str, or False, default ``None``\n",
            "      Column(s) to use as the row labels of the ``DataFrame``, either given as\n",
            "      string name or column index. If a sequence of int / str is given, a\n",
            "      MultiIndex is used.\n",
            "    \n",
            "      Note: ``index_col=False`` can be used to force pandas to *not* use the first\n",
            "      column as the index, e.g. when you have a malformed file with delimiters at\n",
            "      the end of each line.\n",
            "    usecols : list-like or callable, optional\n",
            "        Return a subset of the columns. If list-like, all elements must either\n",
            "        be positional (i.e. integer indices into the document columns) or strings\n",
            "        that correspond to column names provided either by the user in `names` or\n",
            "        inferred from the document header row(s). For example, a valid list-like\n",
            "        `usecols` parameter would be ``[0, 1, 2]`` or ``['foo', 'bar', 'baz']``.\n",
            "        Element order is ignored, so ``usecols=[0, 1]`` is the same as ``[1, 0]``.\n",
            "        To instantiate a DataFrame from ``data`` with element order preserved use\n",
            "        ``pd.read_csv(data, usecols=['foo', 'bar'])[['foo', 'bar']]`` for columns\n",
            "        in ``['foo', 'bar']`` order or\n",
            "        ``pd.read_csv(data, usecols=['foo', 'bar'])[['bar', 'foo']]``\n",
            "        for ``['bar', 'foo']`` order.\n",
            "    \n",
            "        If callable, the callable function will be evaluated against the column\n",
            "        names, returning names where the callable function evaluates to True. An\n",
            "        example of a valid callable argument would be ``lambda x: x.upper() in\n",
            "        ['AAA', 'BBB', 'DDD']``. Using this parameter results in much faster\n",
            "        parsing time and lower memory usage.\n",
            "    squeeze : bool, default False\n",
            "        If the parsed data only contains one column then return a Series.\n",
            "    prefix : str, optional\n",
            "        Prefix to add to column numbers when no header, e.g. 'X' for X0, X1, ...\n",
            "    mangle_dupe_cols : bool, default True\n",
            "        Duplicate columns will be specified as 'X', 'X.1', ...'X.N', rather than\n",
            "        'X'...'X'. Passing in False will cause data to be overwritten if there\n",
            "        are duplicate names in the columns.\n",
            "    dtype : Type name or dict of column -> type, optional\n",
            "        Data type for data or columns. E.g. {'a': np.float64, 'b': np.int32,\n",
            "        'c': 'Int64'}\n",
            "        Use `str` or `object` together with suitable `na_values` settings\n",
            "        to preserve and not interpret dtype.\n",
            "        If converters are specified, they will be applied INSTEAD\n",
            "        of dtype conversion.\n",
            "    engine : {'c', 'python'}, optional\n",
            "        Parser engine to use. The C engine is faster while the python engine is\n",
            "        currently more feature-complete.\n",
            "    converters : dict, optional\n",
            "        Dict of functions for converting values in certain columns. Keys can either\n",
            "        be integers or column labels.\n",
            "    true_values : list, optional\n",
            "        Values to consider as True.\n",
            "    false_values : list, optional\n",
            "        Values to consider as False.\n",
            "    skipinitialspace : bool, default False\n",
            "        Skip spaces after delimiter.\n",
            "    skiprows : list-like, int or callable, optional\n",
            "        Line numbers to skip (0-indexed) or number of lines to skip (int)\n",
            "        at the start of the file.\n",
            "    \n",
            "        If callable, the callable function will be evaluated against the row\n",
            "        indices, returning True if the row should be skipped and False otherwise.\n",
            "        An example of a valid callable argument would be ``lambda x: x in [0, 2]``.\n",
            "    skipfooter : int, default 0\n",
            "        Number of lines at bottom of file to skip (Unsupported with engine='c').\n",
            "    nrows : int, optional\n",
            "        Number of rows of file to read. Useful for reading pieces of large files.\n",
            "    na_values : scalar, str, list-like, or dict, optional\n",
            "        Additional strings to recognize as NA/NaN. If dict passed, specific\n",
            "        per-column NA values.  By default the following values are interpreted as\n",
            "        NaN: '', '#N/A', '#N/A N/A', '#NA', '-1.#IND', '-1.#QNAN', '-NaN', '-nan',\n",
            "        '1.#IND', '1.#QNAN', '<NA>', 'N/A', 'NA', 'NULL', 'NaN', 'n/a',\n",
            "        'nan', 'null'.\n",
            "    keep_default_na : bool, default True\n",
            "        Whether or not to include the default NaN values when parsing the data.\n",
            "        Depending on whether `na_values` is passed in, the behavior is as follows:\n",
            "    \n",
            "        * If `keep_default_na` is True, and `na_values` are specified, `na_values`\n",
            "          is appended to the default NaN values used for parsing.\n",
            "        * If `keep_default_na` is True, and `na_values` are not specified, only\n",
            "          the default NaN values are used for parsing.\n",
            "        * If `keep_default_na` is False, and `na_values` are specified, only\n",
            "          the NaN values specified `na_values` are used for parsing.\n",
            "        * If `keep_default_na` is False, and `na_values` are not specified, no\n",
            "          strings will be parsed as NaN.\n",
            "    \n",
            "        Note that if `na_filter` is passed in as False, the `keep_default_na` and\n",
            "        `na_values` parameters will be ignored.\n",
            "    na_filter : bool, default True\n",
            "        Detect missing value markers (empty strings and the value of na_values). In\n",
            "        data without any NAs, passing na_filter=False can improve the performance\n",
            "        of reading a large file.\n",
            "    verbose : bool, default False\n",
            "        Indicate number of NA values placed in non-numeric columns.\n",
            "    skip_blank_lines : bool, default True\n",
            "        If True, skip over blank lines rather than interpreting as NaN values.\n",
            "    parse_dates : bool or list of int or names or list of lists or dict, default False\n",
            "        The behavior is as follows:\n",
            "    \n",
            "        * boolean. If True -> try parsing the index.\n",
            "        * list of int or names. e.g. If [1, 2, 3] -> try parsing columns 1, 2, 3\n",
            "          each as a separate date column.\n",
            "        * list of lists. e.g.  If [[1, 3]] -> combine columns 1 and 3 and parse as\n",
            "          a single date column.\n",
            "        * dict, e.g. {'foo' : [1, 3]} -> parse columns 1, 3 as date and call\n",
            "          result 'foo'\n",
            "    \n",
            "        If a column or index cannot be represented as an array of datetimes,\n",
            "        say because of an unparsable value or a mixture of timezones, the column\n",
            "        or index will be returned unaltered as an object data type. For\n",
            "        non-standard datetime parsing, use ``pd.to_datetime`` after\n",
            "        ``pd.read_csv``. To parse an index or column with a mixture of timezones,\n",
            "        specify ``date_parser`` to be a partially-applied\n",
            "        :func:`pandas.to_datetime` with ``utc=True``. See\n",
            "        :ref:`io.csv.mixed_timezones` for more.\n",
            "    \n",
            "        Note: A fast-path exists for iso8601-formatted dates.\n",
            "    infer_datetime_format : bool, default False\n",
            "        If True and `parse_dates` is enabled, pandas will attempt to infer the\n",
            "        format of the datetime strings in the columns, and if it can be inferred,\n",
            "        switch to a faster method of parsing them. In some cases this can increase\n",
            "        the parsing speed by 5-10x.\n",
            "    keep_date_col : bool, default False\n",
            "        If True and `parse_dates` specifies combining multiple columns then\n",
            "        keep the original columns.\n",
            "    date_parser : function, optional\n",
            "        Function to use for converting a sequence of string columns to an array of\n",
            "        datetime instances. The default uses ``dateutil.parser.parser`` to do the\n",
            "        conversion. Pandas will try to call `date_parser` in three different ways,\n",
            "        advancing to the next if an exception occurs: 1) Pass one or more arrays\n",
            "        (as defined by `parse_dates`) as arguments; 2) concatenate (row-wise) the\n",
            "        string values from the columns defined by `parse_dates` into a single array\n",
            "        and pass that; and 3) call `date_parser` once for each row using one or\n",
            "        more strings (corresponding to the columns defined by `parse_dates`) as\n",
            "        arguments.\n",
            "    dayfirst : bool, default False\n",
            "        DD/MM format dates, international and European format.\n",
            "    cache_dates : bool, default True\n",
            "        If True, use a cache of unique, converted dates to apply the datetime\n",
            "        conversion. May produce significant speed-up when parsing duplicate\n",
            "        date strings, especially ones with timezone offsets.\n",
            "    \n",
            "        .. versionadded:: 0.25.0\n",
            "    iterator : bool, default False\n",
            "        Return TextFileReader object for iteration or getting chunks with\n",
            "        ``get_chunk()``.\n",
            "    \n",
            "        .. versionchanged:: 1.2\n",
            "    \n",
            "           ``TextFileReader`` is a context manager.\n",
            "    chunksize : int, optional\n",
            "        Return TextFileReader object for iteration.\n",
            "        See the `IO Tools docs\n",
            "        <https://pandas.pydata.org/pandas-docs/stable/io.html#io-chunking>`_\n",
            "        for more information on ``iterator`` and ``chunksize``.\n",
            "    \n",
            "        .. versionchanged:: 1.2\n",
            "    \n",
            "           ``TextFileReader`` is a context manager.\n",
            "    compression : {'infer', 'gzip', 'bz2', 'zip', 'xz', None}, default 'infer'\n",
            "        For on-the-fly decompression of on-disk data. If 'infer' and\n",
            "        `filepath_or_buffer` is path-like, then detect compression from the\n",
            "        following extensions: '.gz', '.bz2', '.zip', or '.xz' (otherwise no\n",
            "        decompression). If using 'zip', the ZIP file must contain only one data\n",
            "        file to be read in. Set to None for no decompression.\n",
            "    thousands : str, optional\n",
            "        Thousands separator.\n",
            "    decimal : str, default '.'\n",
            "        Character to recognize as decimal point (e.g. use ',' for European data).\n",
            "    lineterminator : str (length 1), optional\n",
            "        Character to break file into lines. Only valid with C parser.\n",
            "    quotechar : str (length 1), optional\n",
            "        The character used to denote the start and end of a quoted item. Quoted\n",
            "        items can include the delimiter and it will be ignored.\n",
            "    quoting : int or csv.QUOTE_* instance, default 0\n",
            "        Control field quoting behavior per ``csv.QUOTE_*`` constants. Use one of\n",
            "        QUOTE_MINIMAL (0), QUOTE_ALL (1), QUOTE_NONNUMERIC (2) or QUOTE_NONE (3).\n",
            "    doublequote : bool, default ``True``\n",
            "       When quotechar is specified and quoting is not ``QUOTE_NONE``, indicate\n",
            "       whether or not to interpret two consecutive quotechar elements INSIDE a\n",
            "       field as a single ``quotechar`` element.\n",
            "    escapechar : str (length 1), optional\n",
            "        One-character string used to escape other characters.\n",
            "    comment : str, optional\n",
            "        Indicates remainder of line should not be parsed. If found at the beginning\n",
            "        of a line, the line will be ignored altogether. This parameter must be a\n",
            "        single character. Like empty lines (as long as ``skip_blank_lines=True``),\n",
            "        fully commented lines are ignored by the parameter `header` but not by\n",
            "        `skiprows`. For example, if ``comment='#'``, parsing\n",
            "        ``#empty\\na,b,c\\n1,2,3`` with ``header=0`` will result in 'a,b,c' being\n",
            "        treated as the header.\n",
            "    encoding : str, optional\n",
            "        Encoding to use for UTF when reading/writing (ex. 'utf-8'). `List of Python\n",
            "        standard encodings\n",
            "        <https://docs.python.org/3/library/codecs.html#standard-encodings>`_ .\n",
            "    dialect : str or csv.Dialect, optional\n",
            "        If provided, this parameter will override values (default or not) for the\n",
            "        following parameters: `delimiter`, `doublequote`, `escapechar`,\n",
            "        `skipinitialspace`, `quotechar`, and `quoting`. If it is necessary to\n",
            "        override values, a ParserWarning will be issued. See csv.Dialect\n",
            "        documentation for more details.\n",
            "    error_bad_lines : bool, default True\n",
            "        Lines with too many fields (e.g. a csv line with too many commas) will by\n",
            "        default cause an exception to be raised, and no DataFrame will be returned.\n",
            "        If False, then these \"bad lines\" will dropped from the DataFrame that is\n",
            "        returned.\n",
            "    warn_bad_lines : bool, default True\n",
            "        If error_bad_lines is False, and warn_bad_lines is True, a warning for each\n",
            "        \"bad line\" will be output.\n",
            "    delim_whitespace : bool, default False\n",
            "        Specifies whether or not whitespace (e.g. ``' '`` or ``'    '``) will be\n",
            "        used as the sep. Equivalent to setting ``sep='\\s+'``. If this option\n",
            "        is set to True, nothing should be passed in for the ``delimiter``\n",
            "        parameter.\n",
            "    low_memory : bool, default True\n",
            "        Internally process the file in chunks, resulting in lower memory use\n",
            "        while parsing, but possibly mixed type inference.  To ensure no mixed\n",
            "        types either set False, or specify the type with the `dtype` parameter.\n",
            "        Note that the entire file is read into a single DataFrame regardless,\n",
            "        use the `chunksize` or `iterator` parameter to return the data in chunks.\n",
            "        (Only valid with C parser).\n",
            "    memory_map : bool, default False\n",
            "        If a filepath is provided for `filepath_or_buffer`, map the file object\n",
            "        directly onto memory and access the data directly from there. Using this\n",
            "        option can improve performance because there is no longer any I/O overhead.\n",
            "    float_precision : str, optional\n",
            "        Specifies which converter the C engine should use for floating-point\n",
            "        values. The options are ``None`` or 'high' for the ordinary converter,\n",
            "        'legacy' for the original lower precision pandas converter, and\n",
            "        'round_trip' for the round-trip converter.\n",
            "    \n",
            "        .. versionchanged:: 1.2\n",
            "    \n",
            "    storage_options : dict, optional\n",
            "        Extra options that make sense for a particular storage connection, e.g.\n",
            "        host, port, username, password, etc., if using a URL that will\n",
            "        be parsed by ``fsspec``, e.g., starting \"s3://\", \"gcs://\". An error\n",
            "        will be raised if providing this argument with a non-fsspec URL.\n",
            "        See the fsspec and backend storage implementation docs for the set of\n",
            "        allowed keys and values.\n",
            "    \n",
            "        .. versionadded:: 1.2\n",
            "    \n",
            "    Returns\n",
            "    -------\n",
            "    DataFrame or TextParser\n",
            "        A comma-separated values (csv) file is returned as two-dimensional\n",
            "        data structure with labeled axes.\n",
            "    \n",
            "    See Also\n",
            "    --------\n",
            "    DataFrame.to_csv : Write DataFrame to a comma-separated values (csv) file.\n",
            "    read_csv : Read a comma-separated values (csv) file into DataFrame.\n",
            "    read_fwf : Read a table of fixed-width formatted lines into DataFrame.\n",
            "    \n",
            "    Examples\n",
            "    --------\n",
            "    >>> pd.read_csv('data.csv')  # doctest: +SKIP\n",
            "\n"
          ]
        }
      ],
      "source": [
        "help(pd.read_csv)                               # How to open a help section on a specific built-in function (this is the help for the read_csv function)"
      ]
    },
    {
      "cell_type": "markdown",
      "metadata": {
        "id": "miubjj2FNFpx"
      },
      "source": [
        "*View the properties of the raw data variable (which is a 'dataframe')*"
      ]
    },
    {
      "cell_type": "code",
      "execution_count": null,
      "metadata": {
        "id": "4TUOpGsCNFpx",
        "outputId": "ed5c9a5a-8173-45bc-f3d5-9a0753be922f"
      },
      "outputs": [
        {
          "data": {
            "text/html": [
              "<div>\n",
              "<style scoped>\n",
              "    .dataframe tbody tr th:only-of-type {\n",
              "        vertical-align: middle;\n",
              "    }\n",
              "\n",
              "    .dataframe tbody tr th {\n",
              "        vertical-align: top;\n",
              "    }\n",
              "\n",
              "    .dataframe thead th {\n",
              "        text-align: right;\n",
              "    }\n",
              "</style>\n",
              "<table border=\"1\" class=\"dataframe\">\n",
              "  <thead>\n",
              "    <tr style=\"text-align: right;\">\n",
              "      <th></th>\n",
              "      <th>ac_power</th>\n",
              "      <th>poa_irradiance</th>\n",
              "      <th>ambient_temp</th>\n",
              "      <th>wind_speed</th>\n",
              "      <th>soiling</th>\n",
              "    </tr>\n",
              "    <tr>\n",
              "      <th>Datetime</th>\n",
              "      <th></th>\n",
              "      <th></th>\n",
              "      <th></th>\n",
              "      <th></th>\n",
              "      <th></th>\n",
              "    </tr>\n",
              "  </thead>\n",
              "  <tbody>\n",
              "    <tr>\n",
              "      <th>2010-02-25 14:16:00</th>\n",
              "      <td>62.464</td>\n",
              "      <td>96.55</td>\n",
              "      <td>4.017</td>\n",
              "      <td>0.564</td>\n",
              "      <td>1.0</td>\n",
              "    </tr>\n",
              "    <tr>\n",
              "      <th>2010-02-25 14:17:00</th>\n",
              "      <td>84.915</td>\n",
              "      <td>103.57</td>\n",
              "      <td>3.990</td>\n",
              "      <td>1.004</td>\n",
              "      <td>1.0</td>\n",
              "    </tr>\n",
              "    <tr>\n",
              "      <th>2010-02-25 14:18:00</th>\n",
              "      <td>94.197</td>\n",
              "      <td>108.96</td>\n",
              "      <td>3.926</td>\n",
              "      <td>1.459</td>\n",
              "      <td>1.0</td>\n",
              "    </tr>\n",
              "    <tr>\n",
              "      <th>2010-02-25 14:19:00</th>\n",
              "      <td>27.059</td>\n",
              "      <td>115.05</td>\n",
              "      <td>3.854</td>\n",
              "      <td>1.326</td>\n",
              "      <td>1.0</td>\n",
              "    </tr>\n",
              "    <tr>\n",
              "      <th>2010-02-25 14:20:00</th>\n",
              "      <td>79.618</td>\n",
              "      <td>127.72</td>\n",
              "      <td>3.792</td>\n",
              "      <td>1.899</td>\n",
              "      <td>1.0</td>\n",
              "    </tr>\n",
              "  </tbody>\n",
              "</table>\n",
              "</div>"
            ],
            "text/plain": [
              "                     ac_power  poa_irradiance  ambient_temp  wind_speed  \\\n",
              "Datetime                                                                  \n",
              "2010-02-25 14:16:00    62.464           96.55         4.017       0.564   \n",
              "2010-02-25 14:17:00    84.915          103.57         3.990       1.004   \n",
              "2010-02-25 14:18:00    94.197          108.96         3.926       1.459   \n",
              "2010-02-25 14:19:00    27.059          115.05         3.854       1.326   \n",
              "2010-02-25 14:20:00    79.618          127.72         3.792       1.899   \n",
              "\n",
              "                     soiling  \n",
              "Datetime                      \n",
              "2010-02-25 14:16:00      1.0  \n",
              "2010-02-25 14:17:00      1.0  \n",
              "2010-02-25 14:18:00      1.0  \n",
              "2010-02-25 14:19:00      1.0  \n",
              "2010-02-25 14:20:00      1.0  "
            ]
          },
          "execution_count": 36,
          "metadata": {
            "tags": []
          },
          "output_type": "execute_result"
        }
      ],
      "source": [
        "data.head()                                     # View the top and bottom rows"
      ]
    },
    {
      "cell_type": "code",
      "execution_count": null,
      "metadata": {
        "id": "BFIt5DSsNFpx",
        "outputId": "8f6073ba-71bc-4b9c-b5ab-5331fd5d8890"
      },
      "outputs": [
        {
          "data": {
            "text/plain": [
              "(1541277, 5)"
            ]
          },
          "execution_count": 39,
          "metadata": {
            "tags": []
          },
          "output_type": "execute_result"
        }
      ],
      "source": [
        "data.shape                                      # View the size of the dataframe"
      ]
    },
    {
      "cell_type": "code",
      "execution_count": null,
      "metadata": {
        "id": "F6c0eRvNNFpy",
        "outputId": "331b42a5-3f44-4d86-cbe5-24abcdc1c6d0"
      },
      "outputs": [
        {
          "data": {
            "text/html": [
              "<div>\n",
              "<style scoped>\n",
              "    .dataframe tbody tr th:only-of-type {\n",
              "        vertical-align: middle;\n",
              "    }\n",
              "\n",
              "    .dataframe tbody tr th {\n",
              "        vertical-align: top;\n",
              "    }\n",
              "\n",
              "    .dataframe thead th {\n",
              "        text-align: right;\n",
              "    }\n",
              "</style>\n",
              "<table border=\"1\" class=\"dataframe\">\n",
              "  <thead>\n",
              "    <tr style=\"text-align: right;\">\n",
              "      <th></th>\n",
              "      <th>0</th>\n",
              "      <th>1</th>\n",
              "      <th>2</th>\n",
              "      <th>3</th>\n",
              "      <th>4</th>\n",
              "      <th>5</th>\n",
              "      <th>6</th>\n",
              "    </tr>\n",
              "  </thead>\n",
              "  <tbody>\n",
              "    <tr>\n",
              "      <th>0</th>\n",
              "      <td>2010-02-25 14:16:00</td>\n",
              "      <td>4</td>\n",
              "      <td>62.464</td>\n",
              "      <td>96.550</td>\n",
              "      <td>4.017</td>\n",
              "      <td>0.564</td>\n",
              "      <td>1.000</td>\n",
              "    </tr>\n",
              "    <tr>\n",
              "      <th>1</th>\n",
              "      <td>2010-02-25 14:17:00</td>\n",
              "      <td>4</td>\n",
              "      <td>84.915</td>\n",
              "      <td>103.570</td>\n",
              "      <td>3.990</td>\n",
              "      <td>1.004</td>\n",
              "      <td>1.000</td>\n",
              "    </tr>\n",
              "    <tr>\n",
              "      <th>2</th>\n",
              "      <td>2010-02-25 14:18:00</td>\n",
              "      <td>4</td>\n",
              "      <td>94.197</td>\n",
              "      <td>108.960</td>\n",
              "      <td>3.926</td>\n",
              "      <td>1.459</td>\n",
              "      <td>1.000</td>\n",
              "    </tr>\n",
              "    <tr>\n",
              "      <th>3</th>\n",
              "      <td>2010-02-25 14:19:00</td>\n",
              "      <td>4</td>\n",
              "      <td>27.059</td>\n",
              "      <td>115.050</td>\n",
              "      <td>3.854</td>\n",
              "      <td>1.326</td>\n",
              "      <td>1.000</td>\n",
              "    </tr>\n",
              "    <tr>\n",
              "      <th>4</th>\n",
              "      <td>2010-02-25 14:20:00</td>\n",
              "      <td>4</td>\n",
              "      <td>79.618</td>\n",
              "      <td>127.720</td>\n",
              "      <td>3.792</td>\n",
              "      <td>1.899</td>\n",
              "      <td>1.000</td>\n",
              "    </tr>\n",
              "    <tr>\n",
              "      <th>...</th>\n",
              "      <td>...</td>\n",
              "      <td>...</td>\n",
              "      <td>...</td>\n",
              "      <td>...</td>\n",
              "      <td>...</td>\n",
              "      <td>...</td>\n",
              "      <td>...</td>\n",
              "    </tr>\n",
              "    <tr>\n",
              "      <th>1541272</th>\n",
              "      <td>2016-12-13 09:53:00</td>\n",
              "      <td>4</td>\n",
              "      <td>701.066</td>\n",
              "      <td>839.505</td>\n",
              "      <td>1.485</td>\n",
              "      <td>2.357</td>\n",
              "      <td>0.992</td>\n",
              "    </tr>\n",
              "    <tr>\n",
              "      <th>1541273</th>\n",
              "      <td>2016-12-13 09:54:00</td>\n",
              "      <td>4</td>\n",
              "      <td>713.114</td>\n",
              "      <td>851.519</td>\n",
              "      <td>1.300</td>\n",
              "      <td>2.453</td>\n",
              "      <td>0.992</td>\n",
              "    </tr>\n",
              "    <tr>\n",
              "      <th>1541274</th>\n",
              "      <td>2016-12-13 09:55:00</td>\n",
              "      <td>4</td>\n",
              "      <td>712.889</td>\n",
              "      <td>851.149</td>\n",
              "      <td>1.218</td>\n",
              "      <td>1.338</td>\n",
              "      <td>0.992</td>\n",
              "    </tr>\n",
              "    <tr>\n",
              "      <th>1541275</th>\n",
              "      <td>2016-12-13 09:56:00</td>\n",
              "      <td>4</td>\n",
              "      <td>714.269</td>\n",
              "      <td>853.730</td>\n",
              "      <td>1.372</td>\n",
              "      <td>0.886</td>\n",
              "      <td>0.992</td>\n",
              "    </tr>\n",
              "    <tr>\n",
              "      <th>1541276</th>\n",
              "      <td>2016-12-13 09:57:00</td>\n",
              "      <td>4</td>\n",
              "      <td>221.987</td>\n",
              "      <td>858.830</td>\n",
              "      <td>1.542</td>\n",
              "      <td>1.391</td>\n",
              "      <td>0.992</td>\n",
              "    </tr>\n",
              "  </tbody>\n",
              "</table>\n",
              "<p>1541277 rows × 7 columns</p>\n",
              "</div>"
            ],
            "text/plain": [
              "                           0  1        2        3      4      5      6\n",
              "0        2010-02-25 14:16:00  4   62.464   96.550  4.017  0.564  1.000\n",
              "1        2010-02-25 14:17:00  4   84.915  103.570  3.990  1.004  1.000\n",
              "2        2010-02-25 14:18:00  4   94.197  108.960  3.926  1.459  1.000\n",
              "3        2010-02-25 14:19:00  4   27.059  115.050  3.854  1.326  1.000\n",
              "4        2010-02-25 14:20:00  4   79.618  127.720  3.792  1.899  1.000\n",
              "...                      ... ..      ...      ...    ...    ...    ...\n",
              "1541272  2016-12-13 09:53:00  4  701.066  839.505  1.485  2.357  0.992\n",
              "1541273  2016-12-13 09:54:00  4  713.114  851.519  1.300  2.453  0.992\n",
              "1541274  2016-12-13 09:55:00  4  712.889  851.149  1.218  1.338  0.992\n",
              "1541275  2016-12-13 09:56:00  4  714.269  853.730  1.372  0.886  0.992\n",
              "1541276  2016-12-13 09:57:00  4  221.987  858.830  1.542  1.391  0.992\n",
              "\n",
              "[1541277 rows x 7 columns]"
            ]
          },
          "execution_count": 31,
          "metadata": {
            "tags": []
          },
          "output_type": "execute_result"
        }
      ],
      "source": [
        "data                                            # View the dataframe as a table, for visual inspection (note that the rows and columns are just numbers)"
      ]
    },
    {
      "cell_type": "code",
      "execution_count": null,
      "metadata": {
        "id": "WcAP-svENFpy",
        "outputId": "10ab7961-8c4b-4cbe-8dcd-d189952424cb"
      },
      "outputs": [
        {
          "data": {
            "text/html": [
              "<div>\n",
              "<style scoped>\n",
              "    .dataframe tbody tr th:only-of-type {\n",
              "        vertical-align: middle;\n",
              "    }\n",
              "\n",
              "    .dataframe tbody tr th {\n",
              "        vertical-align: top;\n",
              "    }\n",
              "\n",
              "    .dataframe thead th {\n",
              "        text-align: right;\n",
              "    }\n",
              "</style>\n",
              "<table border=\"1\" class=\"dataframe\">\n",
              "  <thead>\n",
              "    <tr style=\"text-align: right;\">\n",
              "      <th></th>\n",
              "      <th>Datetime</th>\n",
              "      <th>system_id</th>\n",
              "      <th>ac_power</th>\n",
              "      <th>poa_irradiance</th>\n",
              "      <th>ambient_temp</th>\n",
              "      <th>wind_speed</th>\n",
              "      <th>soiling</th>\n",
              "    </tr>\n",
              "  </thead>\n",
              "  <tbody>\n",
              "    <tr>\n",
              "      <th>0</th>\n",
              "      <td>2010-02-25 14:16:00</td>\n",
              "      <td>4</td>\n",
              "      <td>62.464</td>\n",
              "      <td>96.550</td>\n",
              "      <td>4.017</td>\n",
              "      <td>0.564</td>\n",
              "      <td>1.000</td>\n",
              "    </tr>\n",
              "    <tr>\n",
              "      <th>1</th>\n",
              "      <td>2010-02-25 14:17:00</td>\n",
              "      <td>4</td>\n",
              "      <td>84.915</td>\n",
              "      <td>103.570</td>\n",
              "      <td>3.990</td>\n",
              "      <td>1.004</td>\n",
              "      <td>1.000</td>\n",
              "    </tr>\n",
              "    <tr>\n",
              "      <th>2</th>\n",
              "      <td>2010-02-25 14:18:00</td>\n",
              "      <td>4</td>\n",
              "      <td>94.197</td>\n",
              "      <td>108.960</td>\n",
              "      <td>3.926</td>\n",
              "      <td>1.459</td>\n",
              "      <td>1.000</td>\n",
              "    </tr>\n",
              "    <tr>\n",
              "      <th>3</th>\n",
              "      <td>2010-02-25 14:19:00</td>\n",
              "      <td>4</td>\n",
              "      <td>27.059</td>\n",
              "      <td>115.050</td>\n",
              "      <td>3.854</td>\n",
              "      <td>1.326</td>\n",
              "      <td>1.000</td>\n",
              "    </tr>\n",
              "    <tr>\n",
              "      <th>4</th>\n",
              "      <td>2010-02-25 14:20:00</td>\n",
              "      <td>4</td>\n",
              "      <td>79.618</td>\n",
              "      <td>127.720</td>\n",
              "      <td>3.792</td>\n",
              "      <td>1.899</td>\n",
              "      <td>1.000</td>\n",
              "    </tr>\n",
              "    <tr>\n",
              "      <th>...</th>\n",
              "      <td>...</td>\n",
              "      <td>...</td>\n",
              "      <td>...</td>\n",
              "      <td>...</td>\n",
              "      <td>...</td>\n",
              "      <td>...</td>\n",
              "      <td>...</td>\n",
              "    </tr>\n",
              "    <tr>\n",
              "      <th>1541272</th>\n",
              "      <td>2016-12-13 09:53:00</td>\n",
              "      <td>4</td>\n",
              "      <td>701.066</td>\n",
              "      <td>839.505</td>\n",
              "      <td>1.485</td>\n",
              "      <td>2.357</td>\n",
              "      <td>0.992</td>\n",
              "    </tr>\n",
              "    <tr>\n",
              "      <th>1541273</th>\n",
              "      <td>2016-12-13 09:54:00</td>\n",
              "      <td>4</td>\n",
              "      <td>713.114</td>\n",
              "      <td>851.519</td>\n",
              "      <td>1.300</td>\n",
              "      <td>2.453</td>\n",
              "      <td>0.992</td>\n",
              "    </tr>\n",
              "    <tr>\n",
              "      <th>1541274</th>\n",
              "      <td>2016-12-13 09:55:00</td>\n",
              "      <td>4</td>\n",
              "      <td>712.889</td>\n",
              "      <td>851.149</td>\n",
              "      <td>1.218</td>\n",
              "      <td>1.338</td>\n",
              "      <td>0.992</td>\n",
              "    </tr>\n",
              "    <tr>\n",
              "      <th>1541275</th>\n",
              "      <td>2016-12-13 09:56:00</td>\n",
              "      <td>4</td>\n",
              "      <td>714.269</td>\n",
              "      <td>853.730</td>\n",
              "      <td>1.372</td>\n",
              "      <td>0.886</td>\n",
              "      <td>0.992</td>\n",
              "    </tr>\n",
              "    <tr>\n",
              "      <th>1541276</th>\n",
              "      <td>2016-12-13 09:57:00</td>\n",
              "      <td>4</td>\n",
              "      <td>221.987</td>\n",
              "      <td>858.830</td>\n",
              "      <td>1.542</td>\n",
              "      <td>1.391</td>\n",
              "      <td>0.992</td>\n",
              "    </tr>\n",
              "  </tbody>\n",
              "</table>\n",
              "<p>1541277 rows × 7 columns</p>\n",
              "</div>"
            ],
            "text/plain": [
              "                    Datetime  system_id  ac_power  poa_irradiance  \\\n",
              "0        2010-02-25 14:16:00          4    62.464          96.550   \n",
              "1        2010-02-25 14:17:00          4    84.915         103.570   \n",
              "2        2010-02-25 14:18:00          4    94.197         108.960   \n",
              "3        2010-02-25 14:19:00          4    27.059         115.050   \n",
              "4        2010-02-25 14:20:00          4    79.618         127.720   \n",
              "...                      ...        ...       ...             ...   \n",
              "1541272  2016-12-13 09:53:00          4   701.066         839.505   \n",
              "1541273  2016-12-13 09:54:00          4   713.114         851.519   \n",
              "1541274  2016-12-13 09:55:00          4   712.889         851.149   \n",
              "1541275  2016-12-13 09:56:00          4   714.269         853.730   \n",
              "1541276  2016-12-13 09:57:00          4   221.987         858.830   \n",
              "\n",
              "         ambient_temp  wind_speed  soiling  \n",
              "0               4.017       0.564    1.000  \n",
              "1               3.990       1.004    1.000  \n",
              "2               3.926       1.459    1.000  \n",
              "3               3.854       1.326    1.000  \n",
              "4               3.792       1.899    1.000  \n",
              "...               ...         ...      ...  \n",
              "1541272         1.485       2.357    0.992  \n",
              "1541273         1.300       2.453    0.992  \n",
              "1541274         1.218       1.338    0.992  \n",
              "1541275         1.372       0.886    0.992  \n",
              "1541276         1.542       1.391    0.992  \n",
              "\n",
              "[1541277 rows x 7 columns]"
            ]
          },
          "execution_count": 32,
          "metadata": {
            "tags": []
          },
          "output_type": "execute_result"
        }
      ],
      "source": [
        "data.columns = (['Datetime','system_id','ac_power', 'poa_irradiance',  \n",
        "                'ambient_temp', 'wind_speed','soiling'])                # Create names for each column\n",
        "data                                                                    # Note that the columns are now named, but the rows are still just numbers"
      ]
    },
    {
      "cell_type": "code",
      "execution_count": null,
      "metadata": {
        "id": "nT44nmX6NFpz",
        "outputId": "23019f19-cfe8-4f7e-c2f9-c078cfa7b014"
      },
      "outputs": [
        {
          "data": {
            "text/html": [
              "<div>\n",
              "<style scoped>\n",
              "    .dataframe tbody tr th:only-of-type {\n",
              "        vertical-align: middle;\n",
              "    }\n",
              "\n",
              "    .dataframe tbody tr th {\n",
              "        vertical-align: top;\n",
              "    }\n",
              "\n",
              "    .dataframe thead th {\n",
              "        text-align: right;\n",
              "    }\n",
              "</style>\n",
              "<table border=\"1\" class=\"dataframe\">\n",
              "  <thead>\n",
              "    <tr style=\"text-align: right;\">\n",
              "      <th></th>\n",
              "      <th>Datetime</th>\n",
              "      <th>system_id</th>\n",
              "      <th>ac_power</th>\n",
              "      <th>poa_irradiance</th>\n",
              "      <th>ambient_temp</th>\n",
              "      <th>wind_speed</th>\n",
              "      <th>soiling</th>\n",
              "    </tr>\n",
              "  </thead>\n",
              "  <tbody>\n",
              "    <tr>\n",
              "      <th>0</th>\n",
              "      <td>2010-02-25 14:16:00</td>\n",
              "      <td>4</td>\n",
              "      <td>62.464</td>\n",
              "      <td>96.550</td>\n",
              "      <td>4.017</td>\n",
              "      <td>0.564</td>\n",
              "      <td>1.000</td>\n",
              "    </tr>\n",
              "    <tr>\n",
              "      <th>1</th>\n",
              "      <td>2010-02-25 14:17:00</td>\n",
              "      <td>4</td>\n",
              "      <td>84.915</td>\n",
              "      <td>103.570</td>\n",
              "      <td>3.990</td>\n",
              "      <td>1.004</td>\n",
              "      <td>1.000</td>\n",
              "    </tr>\n",
              "    <tr>\n",
              "      <th>2</th>\n",
              "      <td>2010-02-25 14:18:00</td>\n",
              "      <td>4</td>\n",
              "      <td>94.197</td>\n",
              "      <td>108.960</td>\n",
              "      <td>3.926</td>\n",
              "      <td>1.459</td>\n",
              "      <td>1.000</td>\n",
              "    </tr>\n",
              "    <tr>\n",
              "      <th>3</th>\n",
              "      <td>2010-02-25 14:19:00</td>\n",
              "      <td>4</td>\n",
              "      <td>27.059</td>\n",
              "      <td>115.050</td>\n",
              "      <td>3.854</td>\n",
              "      <td>1.326</td>\n",
              "      <td>1.000</td>\n",
              "    </tr>\n",
              "    <tr>\n",
              "      <th>4</th>\n",
              "      <td>2010-02-25 14:20:00</td>\n",
              "      <td>4</td>\n",
              "      <td>79.618</td>\n",
              "      <td>127.720</td>\n",
              "      <td>3.792</td>\n",
              "      <td>1.899</td>\n",
              "      <td>1.000</td>\n",
              "    </tr>\n",
              "    <tr>\n",
              "      <th>...</th>\n",
              "      <td>...</td>\n",
              "      <td>...</td>\n",
              "      <td>...</td>\n",
              "      <td>...</td>\n",
              "      <td>...</td>\n",
              "      <td>...</td>\n",
              "      <td>...</td>\n",
              "    </tr>\n",
              "    <tr>\n",
              "      <th>1541272</th>\n",
              "      <td>2016-12-13 09:53:00</td>\n",
              "      <td>4</td>\n",
              "      <td>701.066</td>\n",
              "      <td>839.505</td>\n",
              "      <td>1.485</td>\n",
              "      <td>2.357</td>\n",
              "      <td>0.992</td>\n",
              "    </tr>\n",
              "    <tr>\n",
              "      <th>1541273</th>\n",
              "      <td>2016-12-13 09:54:00</td>\n",
              "      <td>4</td>\n",
              "      <td>713.114</td>\n",
              "      <td>851.519</td>\n",
              "      <td>1.300</td>\n",
              "      <td>2.453</td>\n",
              "      <td>0.992</td>\n",
              "    </tr>\n",
              "    <tr>\n",
              "      <th>1541274</th>\n",
              "      <td>2016-12-13 09:55:00</td>\n",
              "      <td>4</td>\n",
              "      <td>712.889</td>\n",
              "      <td>851.149</td>\n",
              "      <td>1.218</td>\n",
              "      <td>1.338</td>\n",
              "      <td>0.992</td>\n",
              "    </tr>\n",
              "    <tr>\n",
              "      <th>1541275</th>\n",
              "      <td>2016-12-13 09:56:00</td>\n",
              "      <td>4</td>\n",
              "      <td>714.269</td>\n",
              "      <td>853.730</td>\n",
              "      <td>1.372</td>\n",
              "      <td>0.886</td>\n",
              "      <td>0.992</td>\n",
              "    </tr>\n",
              "    <tr>\n",
              "      <th>1541276</th>\n",
              "      <td>2016-12-13 09:57:00</td>\n",
              "      <td>4</td>\n",
              "      <td>221.987</td>\n",
              "      <td>858.830</td>\n",
              "      <td>1.542</td>\n",
              "      <td>1.391</td>\n",
              "      <td>0.992</td>\n",
              "    </tr>\n",
              "  </tbody>\n",
              "</table>\n",
              "<p>1541277 rows × 7 columns</p>\n",
              "</div>"
            ],
            "text/plain": [
              "                   Datetime  system_id  ac_power  poa_irradiance  \\\n",
              "0       2010-02-25 14:16:00          4    62.464          96.550   \n",
              "1       2010-02-25 14:17:00          4    84.915         103.570   \n",
              "2       2010-02-25 14:18:00          4    94.197         108.960   \n",
              "3       2010-02-25 14:19:00          4    27.059         115.050   \n",
              "4       2010-02-25 14:20:00          4    79.618         127.720   \n",
              "...                     ...        ...       ...             ...   \n",
              "1541272 2016-12-13 09:53:00          4   701.066         839.505   \n",
              "1541273 2016-12-13 09:54:00          4   713.114         851.519   \n",
              "1541274 2016-12-13 09:55:00          4   712.889         851.149   \n",
              "1541275 2016-12-13 09:56:00          4   714.269         853.730   \n",
              "1541276 2016-12-13 09:57:00          4   221.987         858.830   \n",
              "\n",
              "         ambient_temp  wind_speed  soiling  \n",
              "0               4.017       0.564    1.000  \n",
              "1               3.990       1.004    1.000  \n",
              "2               3.926       1.459    1.000  \n",
              "3               3.854       1.326    1.000  \n",
              "4               3.792       1.899    1.000  \n",
              "...               ...         ...      ...  \n",
              "1541272         1.485       2.357    0.992  \n",
              "1541273         1.300       2.453    0.992  \n",
              "1541274         1.218       1.338    0.992  \n",
              "1541275         1.372       0.886    0.992  \n",
              "1541276         1.542       1.391    0.992  \n",
              "\n",
              "[1541277 rows x 7 columns]"
            ]
          },
          "execution_count": 33,
          "metadata": {
            "tags": []
          },
          "output_type": "execute_result"
        }
      ],
      "source": [
        "data['Datetime'] =  pd.to_datetime(data['Datetime'])                    # Convert the 'Datetime' column to the proper datetime format for time series analysis\n",
        "data                                                                                                                        "
      ]
    },
    {
      "cell_type": "code",
      "execution_count": null,
      "metadata": {
        "id": "S06g7fWXNFpz",
        "outputId": "d474aec3-94e0-41ed-b4b5-70f1d1aa263c"
      },
      "outputs": [
        {
          "data": {
            "text/html": [
              "<div>\n",
              "<style scoped>\n",
              "    .dataframe tbody tr th:only-of-type {\n",
              "        vertical-align: middle;\n",
              "    }\n",
              "\n",
              "    .dataframe tbody tr th {\n",
              "        vertical-align: top;\n",
              "    }\n",
              "\n",
              "    .dataframe thead th {\n",
              "        text-align: right;\n",
              "    }\n",
              "</style>\n",
              "<table border=\"1\" class=\"dataframe\">\n",
              "  <thead>\n",
              "    <tr style=\"text-align: right;\">\n",
              "      <th></th>\n",
              "      <th>system_id</th>\n",
              "      <th>ac_power</th>\n",
              "      <th>poa_irradiance</th>\n",
              "      <th>ambient_temp</th>\n",
              "      <th>wind_speed</th>\n",
              "      <th>soiling</th>\n",
              "    </tr>\n",
              "    <tr>\n",
              "      <th>Datetime</th>\n",
              "      <th></th>\n",
              "      <th></th>\n",
              "      <th></th>\n",
              "      <th></th>\n",
              "      <th></th>\n",
              "      <th></th>\n",
              "    </tr>\n",
              "  </thead>\n",
              "  <tbody>\n",
              "    <tr>\n",
              "      <th>2010-02-25 14:16:00</th>\n",
              "      <td>4</td>\n",
              "      <td>62.464</td>\n",
              "      <td>96.550</td>\n",
              "      <td>4.017</td>\n",
              "      <td>0.564</td>\n",
              "      <td>1.000</td>\n",
              "    </tr>\n",
              "    <tr>\n",
              "      <th>2010-02-25 14:17:00</th>\n",
              "      <td>4</td>\n",
              "      <td>84.915</td>\n",
              "      <td>103.570</td>\n",
              "      <td>3.990</td>\n",
              "      <td>1.004</td>\n",
              "      <td>1.000</td>\n",
              "    </tr>\n",
              "    <tr>\n",
              "      <th>2010-02-25 14:18:00</th>\n",
              "      <td>4</td>\n",
              "      <td>94.197</td>\n",
              "      <td>108.960</td>\n",
              "      <td>3.926</td>\n",
              "      <td>1.459</td>\n",
              "      <td>1.000</td>\n",
              "    </tr>\n",
              "    <tr>\n",
              "      <th>2010-02-25 14:19:00</th>\n",
              "      <td>4</td>\n",
              "      <td>27.059</td>\n",
              "      <td>115.050</td>\n",
              "      <td>3.854</td>\n",
              "      <td>1.326</td>\n",
              "      <td>1.000</td>\n",
              "    </tr>\n",
              "    <tr>\n",
              "      <th>2010-02-25 14:20:00</th>\n",
              "      <td>4</td>\n",
              "      <td>79.618</td>\n",
              "      <td>127.720</td>\n",
              "      <td>3.792</td>\n",
              "      <td>1.899</td>\n",
              "      <td>1.000</td>\n",
              "    </tr>\n",
              "    <tr>\n",
              "      <th>...</th>\n",
              "      <td>...</td>\n",
              "      <td>...</td>\n",
              "      <td>...</td>\n",
              "      <td>...</td>\n",
              "      <td>...</td>\n",
              "      <td>...</td>\n",
              "    </tr>\n",
              "    <tr>\n",
              "      <th>2016-12-13 09:53:00</th>\n",
              "      <td>4</td>\n",
              "      <td>701.066</td>\n",
              "      <td>839.505</td>\n",
              "      <td>1.485</td>\n",
              "      <td>2.357</td>\n",
              "      <td>0.992</td>\n",
              "    </tr>\n",
              "    <tr>\n",
              "      <th>2016-12-13 09:54:00</th>\n",
              "      <td>4</td>\n",
              "      <td>713.114</td>\n",
              "      <td>851.519</td>\n",
              "      <td>1.300</td>\n",
              "      <td>2.453</td>\n",
              "      <td>0.992</td>\n",
              "    </tr>\n",
              "    <tr>\n",
              "      <th>2016-12-13 09:55:00</th>\n",
              "      <td>4</td>\n",
              "      <td>712.889</td>\n",
              "      <td>851.149</td>\n",
              "      <td>1.218</td>\n",
              "      <td>1.338</td>\n",
              "      <td>0.992</td>\n",
              "    </tr>\n",
              "    <tr>\n",
              "      <th>2016-12-13 09:56:00</th>\n",
              "      <td>4</td>\n",
              "      <td>714.269</td>\n",
              "      <td>853.730</td>\n",
              "      <td>1.372</td>\n",
              "      <td>0.886</td>\n",
              "      <td>0.992</td>\n",
              "    </tr>\n",
              "    <tr>\n",
              "      <th>2016-12-13 09:57:00</th>\n",
              "      <td>4</td>\n",
              "      <td>221.987</td>\n",
              "      <td>858.830</td>\n",
              "      <td>1.542</td>\n",
              "      <td>1.391</td>\n",
              "      <td>0.992</td>\n",
              "    </tr>\n",
              "  </tbody>\n",
              "</table>\n",
              "<p>1541277 rows × 6 columns</p>\n",
              "</div>"
            ],
            "text/plain": [
              "                     system_id  ac_power  poa_irradiance  ambient_temp  \\\n",
              "Datetime                                                                 \n",
              "2010-02-25 14:16:00          4    62.464          96.550         4.017   \n",
              "2010-02-25 14:17:00          4    84.915         103.570         3.990   \n",
              "2010-02-25 14:18:00          4    94.197         108.960         3.926   \n",
              "2010-02-25 14:19:00          4    27.059         115.050         3.854   \n",
              "2010-02-25 14:20:00          4    79.618         127.720         3.792   \n",
              "...                        ...       ...             ...           ...   \n",
              "2016-12-13 09:53:00          4   701.066         839.505         1.485   \n",
              "2016-12-13 09:54:00          4   713.114         851.519         1.300   \n",
              "2016-12-13 09:55:00          4   712.889         851.149         1.218   \n",
              "2016-12-13 09:56:00          4   714.269         853.730         1.372   \n",
              "2016-12-13 09:57:00          4   221.987         858.830         1.542   \n",
              "\n",
              "                     wind_speed  soiling  \n",
              "Datetime                                  \n",
              "2010-02-25 14:16:00       0.564    1.000  \n",
              "2010-02-25 14:17:00       1.004    1.000  \n",
              "2010-02-25 14:18:00       1.459    1.000  \n",
              "2010-02-25 14:19:00       1.326    1.000  \n",
              "2010-02-25 14:20:00       1.899    1.000  \n",
              "...                         ...      ...  \n",
              "2016-12-13 09:53:00       2.357    0.992  \n",
              "2016-12-13 09:54:00       2.453    0.992  \n",
              "2016-12-13 09:55:00       1.338    0.992  \n",
              "2016-12-13 09:56:00       0.886    0.992  \n",
              "2016-12-13 09:57:00       1.391    0.992  \n",
              "\n",
              "[1541277 rows x 6 columns]"
            ]
          },
          "execution_count": 34,
          "metadata": {
            "tags": []
          },
          "output_type": "execute_result"
        }
      ],
      "source": [
        "data = data.set_index(['Datetime'])              # Set the 'Datetime' column as the index (i.e. key) in the pandas dataframe\n",
        "data                                             # Note that the row names are now the datetime stamps"
      ]
    },
    {
      "cell_type": "code",
      "execution_count": null,
      "metadata": {
        "id": "cqZhBEcQNFp0",
        "outputId": "a4264b82-75cd-4ada-c2fd-145f76ad5711"
      },
      "outputs": [
        {
          "data": {
            "text/html": [
              "<div>\n",
              "<style scoped>\n",
              "    .dataframe tbody tr th:only-of-type {\n",
              "        vertical-align: middle;\n",
              "    }\n",
              "\n",
              "    .dataframe tbody tr th {\n",
              "        vertical-align: top;\n",
              "    }\n",
              "\n",
              "    .dataframe thead th {\n",
              "        text-align: right;\n",
              "    }\n",
              "</style>\n",
              "<table border=\"1\" class=\"dataframe\">\n",
              "  <thead>\n",
              "    <tr style=\"text-align: right;\">\n",
              "      <th></th>\n",
              "      <th>ac_power</th>\n",
              "      <th>poa_irradiance</th>\n",
              "      <th>ambient_temp</th>\n",
              "      <th>wind_speed</th>\n",
              "      <th>soiling</th>\n",
              "    </tr>\n",
              "    <tr>\n",
              "      <th>Datetime</th>\n",
              "      <th></th>\n",
              "      <th></th>\n",
              "      <th></th>\n",
              "      <th></th>\n",
              "      <th></th>\n",
              "    </tr>\n",
              "  </thead>\n",
              "  <tbody>\n",
              "    <tr>\n",
              "      <th>2010-02-25 14:16:00</th>\n",
              "      <td>62.464</td>\n",
              "      <td>96.550</td>\n",
              "      <td>4.017</td>\n",
              "      <td>0.564</td>\n",
              "      <td>1.000</td>\n",
              "    </tr>\n",
              "    <tr>\n",
              "      <th>2010-02-25 14:17:00</th>\n",
              "      <td>84.915</td>\n",
              "      <td>103.570</td>\n",
              "      <td>3.990</td>\n",
              "      <td>1.004</td>\n",
              "      <td>1.000</td>\n",
              "    </tr>\n",
              "    <tr>\n",
              "      <th>2010-02-25 14:18:00</th>\n",
              "      <td>94.197</td>\n",
              "      <td>108.960</td>\n",
              "      <td>3.926</td>\n",
              "      <td>1.459</td>\n",
              "      <td>1.000</td>\n",
              "    </tr>\n",
              "    <tr>\n",
              "      <th>2010-02-25 14:19:00</th>\n",
              "      <td>27.059</td>\n",
              "      <td>115.050</td>\n",
              "      <td>3.854</td>\n",
              "      <td>1.326</td>\n",
              "      <td>1.000</td>\n",
              "    </tr>\n",
              "    <tr>\n",
              "      <th>2010-02-25 14:20:00</th>\n",
              "      <td>79.618</td>\n",
              "      <td>127.720</td>\n",
              "      <td>3.792</td>\n",
              "      <td>1.899</td>\n",
              "      <td>1.000</td>\n",
              "    </tr>\n",
              "    <tr>\n",
              "      <th>...</th>\n",
              "      <td>...</td>\n",
              "      <td>...</td>\n",
              "      <td>...</td>\n",
              "      <td>...</td>\n",
              "      <td>...</td>\n",
              "    </tr>\n",
              "    <tr>\n",
              "      <th>2016-12-13 09:53:00</th>\n",
              "      <td>701.066</td>\n",
              "      <td>839.505</td>\n",
              "      <td>1.485</td>\n",
              "      <td>2.357</td>\n",
              "      <td>0.992</td>\n",
              "    </tr>\n",
              "    <tr>\n",
              "      <th>2016-12-13 09:54:00</th>\n",
              "      <td>713.114</td>\n",
              "      <td>851.519</td>\n",
              "      <td>1.300</td>\n",
              "      <td>2.453</td>\n",
              "      <td>0.992</td>\n",
              "    </tr>\n",
              "    <tr>\n",
              "      <th>2016-12-13 09:55:00</th>\n",
              "      <td>712.889</td>\n",
              "      <td>851.149</td>\n",
              "      <td>1.218</td>\n",
              "      <td>1.338</td>\n",
              "      <td>0.992</td>\n",
              "    </tr>\n",
              "    <tr>\n",
              "      <th>2016-12-13 09:56:00</th>\n",
              "      <td>714.269</td>\n",
              "      <td>853.730</td>\n",
              "      <td>1.372</td>\n",
              "      <td>0.886</td>\n",
              "      <td>0.992</td>\n",
              "    </tr>\n",
              "    <tr>\n",
              "      <th>2016-12-13 09:57:00</th>\n",
              "      <td>221.987</td>\n",
              "      <td>858.830</td>\n",
              "      <td>1.542</td>\n",
              "      <td>1.391</td>\n",
              "      <td>0.992</td>\n",
              "    </tr>\n",
              "  </tbody>\n",
              "</table>\n",
              "<p>1541277 rows × 5 columns</p>\n",
              "</div>"
            ],
            "text/plain": [
              "                     ac_power  poa_irradiance  ambient_temp  wind_speed  \\\n",
              "Datetime                                                                  \n",
              "2010-02-25 14:16:00    62.464          96.550         4.017       0.564   \n",
              "2010-02-25 14:17:00    84.915         103.570         3.990       1.004   \n",
              "2010-02-25 14:18:00    94.197         108.960         3.926       1.459   \n",
              "2010-02-25 14:19:00    27.059         115.050         3.854       1.326   \n",
              "2010-02-25 14:20:00    79.618         127.720         3.792       1.899   \n",
              "...                       ...             ...           ...         ...   \n",
              "2016-12-13 09:53:00   701.066         839.505         1.485       2.357   \n",
              "2016-12-13 09:54:00   713.114         851.519         1.300       2.453   \n",
              "2016-12-13 09:55:00   712.889         851.149         1.218       1.338   \n",
              "2016-12-13 09:56:00   714.269         853.730         1.372       0.886   \n",
              "2016-12-13 09:57:00   221.987         858.830         1.542       1.391   \n",
              "\n",
              "                     soiling  \n",
              "Datetime                      \n",
              "2010-02-25 14:16:00    1.000  \n",
              "2010-02-25 14:17:00    1.000  \n",
              "2010-02-25 14:18:00    1.000  \n",
              "2010-02-25 14:19:00    1.000  \n",
              "2010-02-25 14:20:00    1.000  \n",
              "...                      ...  \n",
              "2016-12-13 09:53:00    0.992  \n",
              "2016-12-13 09:54:00    0.992  \n",
              "2016-12-13 09:55:00    0.992  \n",
              "2016-12-13 09:56:00    0.992  \n",
              "2016-12-13 09:57:00    0.992  \n",
              "\n",
              "[1541277 rows x 5 columns]"
            ]
          },
          "execution_count": 35,
          "metadata": {
            "tags": []
          },
          "output_type": "execute_result"
        }
      ],
      "source": [
        "data=data.drop(['system_id'], axis=1)           # Drop the 'system_id' column since we do not need this data for the analysis\n",
        "data                                            # Print the data table for visual inspection"
      ]
    }
  ],
  "metadata": {
    "colab": {
      "name": "02a. Fundamentals - Descriptive Analytics - Introduction to Python (Example 2.1).ipynb",
      "provenance": [],
      "include_colab_link": true
    },
    "kernelspec": {
      "display_name": "Python 3 (ipykernel)",
      "language": "python",
      "name": "python3"
    },
    "language_info": {
      "codemirror_mode": {
        "name": "ipython",
        "version": 3
      },
      "file_extension": ".py",
      "mimetype": "text/x-python",
      "name": "python",
      "nbconvert_exporter": "python",
      "pygments_lexer": "ipython3",
      "version": "3.9.9"
    }
  },
  "nbformat": 4,
  "nbformat_minor": 0
}